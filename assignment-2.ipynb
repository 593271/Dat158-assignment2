{
 "cells": [
  {
   "cell_type": "code",
   "execution_count": 1,
   "id": "3abe7290",
   "metadata": {
    "_cell_guid": "b1076dfc-b9ad-4769-8c92-a6c4dae69d19",
    "_uuid": "8f2839f25d086af736a60e9eeb907d3b93b6e0e5",
    "execution": {
     "iopub.execute_input": "2022-11-07T15:41:38.360219Z",
     "iopub.status.busy": "2022-11-07T15:41:38.358994Z",
     "iopub.status.idle": "2022-11-07T15:41:38.374370Z",
     "shell.execute_reply": "2022-11-07T15:41:38.372629Z"
    },
    "papermill": {
     "duration": 0.032539,
     "end_time": "2022-11-07T15:41:38.377783",
     "exception": false,
     "start_time": "2022-11-07T15:41:38.345244",
     "status": "completed"
    },
    "tags": []
   },
   "outputs": [
    {
     "name": "stdout",
     "output_type": "stream",
     "text": [
      "/kaggle/input/house-prices-advanced-regression-techniques/sample_submission.csv\n",
      "/kaggle/input/house-prices-advanced-regression-techniques/data_description.txt\n",
      "/kaggle/input/house-prices-advanced-regression-techniques/train.csv\n",
      "/kaggle/input/house-prices-advanced-regression-techniques/test.csv\n"
     ]
    }
   ],
   "source": [
    "# This Python 3 environment comes with many helpful analytics libraries installed\n",
    "# It is defined by the kaggle/python Docker image: https://github.com/kaggle/docker-python\n",
    "# For example, here's several helpful packages to load\n",
    "\n",
    "import numpy as np # linear algebra\n",
    "import pandas as pd # data processing, CSV file I/O (e.g. pd.read_csv)\n",
    "\n",
    "# Input data files are available in the read-only \"../input/\" directory\n",
    "# For example, running this (by clicking run or pressing Shift+Enter) will list all files under the input directory\n",
    "\n",
    "import os\n",
    "for dirname, _, filenames in os.walk('/kaggle/input'):\n",
    "    for filename in filenames:\n",
    "        print(os.path.join(dirname, filename))\n",
    "\n",
    "# You can write up to 20GB to the current directory (/kaggle/working/) that gets preserved as output when you create a version using \"Save & Run All\" \n",
    "# You can also write temporary files to /kaggle/temp/, but they won't be saved outside of the current session"
   ]
  },
  {
   "cell_type": "code",
   "execution_count": 2,
   "id": "d6c5a12c",
   "metadata": {
    "execution": {
     "iopub.execute_input": "2022-11-07T15:41:38.400858Z",
     "iopub.status.busy": "2022-11-07T15:41:38.400486Z",
     "iopub.status.idle": "2022-11-07T15:41:39.349985Z",
     "shell.execute_reply": "2022-11-07T15:41:39.348240Z"
    },
    "papermill": {
     "duration": 0.964306,
     "end_time": "2022-11-07T15:41:39.353044",
     "exception": false,
     "start_time": "2022-11-07T15:41:38.388738",
     "status": "completed"
    },
    "tags": []
   },
   "outputs": [
    {
     "name": "stdout",
     "output_type": "stream",
     "text": [
      "house-prices-advanced-regression-techniques\n",
      "\n"
     ]
    }
   ],
   "source": [
    "#import some necessary librairies\n",
    "\n",
    "import numpy as np # linear algebra\n",
    "import pandas as pd # data processing, CSV file I/O (e.g. pd.read_csv)\n",
    "%matplotlib inline\n",
    "import matplotlib.pyplot as plt  # Matlab-style plotting\n",
    "import seaborn as sns\n",
    "color = sns.color_palette()\n",
    "sns.set_style('darkgrid')\n",
    "import warnings\n",
    "def ignore_warn(*args, **kwargs):\n",
    "    pass\n",
    "warnings.warn = ignore_warn #ignore annoying warning (from sklearn and seaborn)\n",
    "\n",
    "\n",
    "from scipy import stats\n",
    "from scipy.stats import norm, skew #for some statistics\n",
    "\n",
    "\n",
    "pd.set_option('display.float_format', lambda x: '{:.3f}'.format(x)) #Limiting floats output to 3 decimal points\n",
    "\n",
    "\n",
    "from subprocess import check_output\n",
    "print(check_output([\"ls\", \"../input\"]).decode(\"utf8\")) #check the files available in the directory"
   ]
  },
  {
   "cell_type": "code",
   "execution_count": 3,
   "id": "205313c2",
   "metadata": {
    "execution": {
     "iopub.execute_input": "2022-11-07T15:41:39.379245Z",
     "iopub.status.busy": "2022-11-07T15:41:39.378136Z",
     "iopub.status.idle": "2022-11-07T15:41:39.383685Z",
     "shell.execute_reply": "2022-11-07T15:41:39.382774Z"
    },
    "papermill": {
     "duration": 0.019912,
     "end_time": "2022-11-07T15:41:39.385732",
     "exception": false,
     "start_time": "2022-11-07T15:41:39.365820",
     "status": "completed"
    },
    "tags": []
   },
   "outputs": [],
   "source": [
    "import seaborn as sns\n",
    "import matplotlib.pyplot as plt  # Matlab-style plotting"
   ]
  },
  {
   "cell_type": "code",
   "execution_count": 4,
   "id": "a3471350",
   "metadata": {
    "execution": {
     "iopub.execute_input": "2022-11-07T15:41:39.409189Z",
     "iopub.status.busy": "2022-11-07T15:41:39.408264Z",
     "iopub.status.idle": "2022-11-07T15:41:39.471945Z",
     "shell.execute_reply": "2022-11-07T15:41:39.470890Z"
    },
    "papermill": {
     "duration": 0.078027,
     "end_time": "2022-11-07T15:41:39.474504",
     "exception": false,
     "start_time": "2022-11-07T15:41:39.396477",
     "status": "completed"
    },
    "tags": []
   },
   "outputs": [],
   "source": [
    "test = pd.read_csv('../input/house-prices-advanced-regression-techniques/test.csv')\n",
    "train = pd.read_csv('../input/house-prices-advanced-regression-techniques/train.csv')"
   ]
  },
  {
   "cell_type": "code",
   "execution_count": 5,
   "id": "97eaa38f",
   "metadata": {
    "execution": {
     "iopub.execute_input": "2022-11-07T15:41:39.498092Z",
     "iopub.status.busy": "2022-11-07T15:41:39.497417Z",
     "iopub.status.idle": "2022-11-07T15:41:39.507609Z",
     "shell.execute_reply": "2022-11-07T15:41:39.506706Z"
    },
    "papermill": {
     "duration": 0.024367,
     "end_time": "2022-11-07T15:41:39.509732",
     "exception": false,
     "start_time": "2022-11-07T15:41:39.485365",
     "status": "completed"
    },
    "tags": []
   },
   "outputs": [],
   "source": [
    "train[\"SalePrice\"] = np.log1p(train[\"SalePrice\"])\n"
   ]
  },
  {
   "cell_type": "code",
   "execution_count": 6,
   "id": "065cb992",
   "metadata": {
    "execution": {
     "iopub.execute_input": "2022-11-07T15:41:39.533070Z",
     "iopub.status.busy": "2022-11-07T15:41:39.532093Z",
     "iopub.status.idle": "2022-11-07T15:41:39.571019Z",
     "shell.execute_reply": "2022-11-07T15:41:39.567949Z"
    },
    "papermill": {
     "duration": 0.057103,
     "end_time": "2022-11-07T15:41:39.577401",
     "exception": false,
     "start_time": "2022-11-07T15:41:39.520298",
     "status": "completed"
    },
    "tags": []
   },
   "outputs": [
    {
     "data": {
      "text/html": [
       "<div>\n",
       "<style scoped>\n",
       "    .dataframe tbody tr th:only-of-type {\n",
       "        vertical-align: middle;\n",
       "    }\n",
       "\n",
       "    .dataframe tbody tr th {\n",
       "        vertical-align: top;\n",
       "    }\n",
       "\n",
       "    .dataframe thead th {\n",
       "        text-align: right;\n",
       "    }\n",
       "</style>\n",
       "<table border=\"1\" class=\"dataframe\">\n",
       "  <thead>\n",
       "    <tr style=\"text-align: right;\">\n",
       "      <th></th>\n",
       "      <th>Id</th>\n",
       "      <th>MSSubClass</th>\n",
       "      <th>MSZoning</th>\n",
       "      <th>LotFrontage</th>\n",
       "      <th>LotArea</th>\n",
       "      <th>Street</th>\n",
       "      <th>Alley</th>\n",
       "      <th>LotShape</th>\n",
       "      <th>LandContour</th>\n",
       "      <th>Utilities</th>\n",
       "      <th>...</th>\n",
       "      <th>ScreenPorch</th>\n",
       "      <th>PoolArea</th>\n",
       "      <th>PoolQC</th>\n",
       "      <th>Fence</th>\n",
       "      <th>MiscFeature</th>\n",
       "      <th>MiscVal</th>\n",
       "      <th>MoSold</th>\n",
       "      <th>YrSold</th>\n",
       "      <th>SaleType</th>\n",
       "      <th>SaleCondition</th>\n",
       "    </tr>\n",
       "  </thead>\n",
       "  <tbody>\n",
       "    <tr>\n",
       "      <th>0</th>\n",
       "      <td>1461</td>\n",
       "      <td>20</td>\n",
       "      <td>RH</td>\n",
       "      <td>80.000</td>\n",
       "      <td>11622</td>\n",
       "      <td>Pave</td>\n",
       "      <td>NaN</td>\n",
       "      <td>Reg</td>\n",
       "      <td>Lvl</td>\n",
       "      <td>AllPub</td>\n",
       "      <td>...</td>\n",
       "      <td>120</td>\n",
       "      <td>0</td>\n",
       "      <td>NaN</td>\n",
       "      <td>MnPrv</td>\n",
       "      <td>NaN</td>\n",
       "      <td>0</td>\n",
       "      <td>6</td>\n",
       "      <td>2010</td>\n",
       "      <td>WD</td>\n",
       "      <td>Normal</td>\n",
       "    </tr>\n",
       "    <tr>\n",
       "      <th>1</th>\n",
       "      <td>1462</td>\n",
       "      <td>20</td>\n",
       "      <td>RL</td>\n",
       "      <td>81.000</td>\n",
       "      <td>14267</td>\n",
       "      <td>Pave</td>\n",
       "      <td>NaN</td>\n",
       "      <td>IR1</td>\n",
       "      <td>Lvl</td>\n",
       "      <td>AllPub</td>\n",
       "      <td>...</td>\n",
       "      <td>0</td>\n",
       "      <td>0</td>\n",
       "      <td>NaN</td>\n",
       "      <td>NaN</td>\n",
       "      <td>Gar2</td>\n",
       "      <td>12500</td>\n",
       "      <td>6</td>\n",
       "      <td>2010</td>\n",
       "      <td>WD</td>\n",
       "      <td>Normal</td>\n",
       "    </tr>\n",
       "    <tr>\n",
       "      <th>2</th>\n",
       "      <td>1463</td>\n",
       "      <td>60</td>\n",
       "      <td>RL</td>\n",
       "      <td>74.000</td>\n",
       "      <td>13830</td>\n",
       "      <td>Pave</td>\n",
       "      <td>NaN</td>\n",
       "      <td>IR1</td>\n",
       "      <td>Lvl</td>\n",
       "      <td>AllPub</td>\n",
       "      <td>...</td>\n",
       "      <td>0</td>\n",
       "      <td>0</td>\n",
       "      <td>NaN</td>\n",
       "      <td>MnPrv</td>\n",
       "      <td>NaN</td>\n",
       "      <td>0</td>\n",
       "      <td>3</td>\n",
       "      <td>2010</td>\n",
       "      <td>WD</td>\n",
       "      <td>Normal</td>\n",
       "    </tr>\n",
       "    <tr>\n",
       "      <th>3</th>\n",
       "      <td>1464</td>\n",
       "      <td>60</td>\n",
       "      <td>RL</td>\n",
       "      <td>78.000</td>\n",
       "      <td>9978</td>\n",
       "      <td>Pave</td>\n",
       "      <td>NaN</td>\n",
       "      <td>IR1</td>\n",
       "      <td>Lvl</td>\n",
       "      <td>AllPub</td>\n",
       "      <td>...</td>\n",
       "      <td>0</td>\n",
       "      <td>0</td>\n",
       "      <td>NaN</td>\n",
       "      <td>NaN</td>\n",
       "      <td>NaN</td>\n",
       "      <td>0</td>\n",
       "      <td>6</td>\n",
       "      <td>2010</td>\n",
       "      <td>WD</td>\n",
       "      <td>Normal</td>\n",
       "    </tr>\n",
       "    <tr>\n",
       "      <th>4</th>\n",
       "      <td>1465</td>\n",
       "      <td>120</td>\n",
       "      <td>RL</td>\n",
       "      <td>43.000</td>\n",
       "      <td>5005</td>\n",
       "      <td>Pave</td>\n",
       "      <td>NaN</td>\n",
       "      <td>IR1</td>\n",
       "      <td>HLS</td>\n",
       "      <td>AllPub</td>\n",
       "      <td>...</td>\n",
       "      <td>144</td>\n",
       "      <td>0</td>\n",
       "      <td>NaN</td>\n",
       "      <td>NaN</td>\n",
       "      <td>NaN</td>\n",
       "      <td>0</td>\n",
       "      <td>1</td>\n",
       "      <td>2010</td>\n",
       "      <td>WD</td>\n",
       "      <td>Normal</td>\n",
       "    </tr>\n",
       "    <tr>\n",
       "      <th>5</th>\n",
       "      <td>1466</td>\n",
       "      <td>60</td>\n",
       "      <td>RL</td>\n",
       "      <td>75.000</td>\n",
       "      <td>10000</td>\n",
       "      <td>Pave</td>\n",
       "      <td>NaN</td>\n",
       "      <td>IR1</td>\n",
       "      <td>Lvl</td>\n",
       "      <td>AllPub</td>\n",
       "      <td>...</td>\n",
       "      <td>0</td>\n",
       "      <td>0</td>\n",
       "      <td>NaN</td>\n",
       "      <td>NaN</td>\n",
       "      <td>NaN</td>\n",
       "      <td>0</td>\n",
       "      <td>4</td>\n",
       "      <td>2010</td>\n",
       "      <td>WD</td>\n",
       "      <td>Normal</td>\n",
       "    </tr>\n",
       "    <tr>\n",
       "      <th>6</th>\n",
       "      <td>1467</td>\n",
       "      <td>20</td>\n",
       "      <td>RL</td>\n",
       "      <td>NaN</td>\n",
       "      <td>7980</td>\n",
       "      <td>Pave</td>\n",
       "      <td>NaN</td>\n",
       "      <td>IR1</td>\n",
       "      <td>Lvl</td>\n",
       "      <td>AllPub</td>\n",
       "      <td>...</td>\n",
       "      <td>0</td>\n",
       "      <td>0</td>\n",
       "      <td>NaN</td>\n",
       "      <td>GdPrv</td>\n",
       "      <td>Shed</td>\n",
       "      <td>500</td>\n",
       "      <td>3</td>\n",
       "      <td>2010</td>\n",
       "      <td>WD</td>\n",
       "      <td>Normal</td>\n",
       "    </tr>\n",
       "    <tr>\n",
       "      <th>7</th>\n",
       "      <td>1468</td>\n",
       "      <td>60</td>\n",
       "      <td>RL</td>\n",
       "      <td>63.000</td>\n",
       "      <td>8402</td>\n",
       "      <td>Pave</td>\n",
       "      <td>NaN</td>\n",
       "      <td>IR1</td>\n",
       "      <td>Lvl</td>\n",
       "      <td>AllPub</td>\n",
       "      <td>...</td>\n",
       "      <td>0</td>\n",
       "      <td>0</td>\n",
       "      <td>NaN</td>\n",
       "      <td>NaN</td>\n",
       "      <td>NaN</td>\n",
       "      <td>0</td>\n",
       "      <td>5</td>\n",
       "      <td>2010</td>\n",
       "      <td>WD</td>\n",
       "      <td>Normal</td>\n",
       "    </tr>\n",
       "    <tr>\n",
       "      <th>8</th>\n",
       "      <td>1469</td>\n",
       "      <td>20</td>\n",
       "      <td>RL</td>\n",
       "      <td>85.000</td>\n",
       "      <td>10176</td>\n",
       "      <td>Pave</td>\n",
       "      <td>NaN</td>\n",
       "      <td>Reg</td>\n",
       "      <td>Lvl</td>\n",
       "      <td>AllPub</td>\n",
       "      <td>...</td>\n",
       "      <td>0</td>\n",
       "      <td>0</td>\n",
       "      <td>NaN</td>\n",
       "      <td>NaN</td>\n",
       "      <td>NaN</td>\n",
       "      <td>0</td>\n",
       "      <td>2</td>\n",
       "      <td>2010</td>\n",
       "      <td>WD</td>\n",
       "      <td>Normal</td>\n",
       "    </tr>\n",
       "    <tr>\n",
       "      <th>9</th>\n",
       "      <td>1470</td>\n",
       "      <td>20</td>\n",
       "      <td>RL</td>\n",
       "      <td>70.000</td>\n",
       "      <td>8400</td>\n",
       "      <td>Pave</td>\n",
       "      <td>NaN</td>\n",
       "      <td>Reg</td>\n",
       "      <td>Lvl</td>\n",
       "      <td>AllPub</td>\n",
       "      <td>...</td>\n",
       "      <td>0</td>\n",
       "      <td>0</td>\n",
       "      <td>NaN</td>\n",
       "      <td>MnPrv</td>\n",
       "      <td>NaN</td>\n",
       "      <td>0</td>\n",
       "      <td>4</td>\n",
       "      <td>2010</td>\n",
       "      <td>WD</td>\n",
       "      <td>Normal</td>\n",
       "    </tr>\n",
       "  </tbody>\n",
       "</table>\n",
       "<p>10 rows × 80 columns</p>\n",
       "</div>"
      ],
      "text/plain": [
       "     Id  MSSubClass MSZoning  LotFrontage  LotArea Street Alley LotShape  \\\n",
       "0  1461          20       RH       80.000    11622   Pave   NaN      Reg   \n",
       "1  1462          20       RL       81.000    14267   Pave   NaN      IR1   \n",
       "2  1463          60       RL       74.000    13830   Pave   NaN      IR1   \n",
       "3  1464          60       RL       78.000     9978   Pave   NaN      IR1   \n",
       "4  1465         120       RL       43.000     5005   Pave   NaN      IR1   \n",
       "5  1466          60       RL       75.000    10000   Pave   NaN      IR1   \n",
       "6  1467          20       RL          NaN     7980   Pave   NaN      IR1   \n",
       "7  1468          60       RL       63.000     8402   Pave   NaN      IR1   \n",
       "8  1469          20       RL       85.000    10176   Pave   NaN      Reg   \n",
       "9  1470          20       RL       70.000     8400   Pave   NaN      Reg   \n",
       "\n",
       "  LandContour Utilities  ... ScreenPorch PoolArea PoolQC  Fence MiscFeature  \\\n",
       "0         Lvl    AllPub  ...         120        0    NaN  MnPrv         NaN   \n",
       "1         Lvl    AllPub  ...           0        0    NaN    NaN        Gar2   \n",
       "2         Lvl    AllPub  ...           0        0    NaN  MnPrv         NaN   \n",
       "3         Lvl    AllPub  ...           0        0    NaN    NaN         NaN   \n",
       "4         HLS    AllPub  ...         144        0    NaN    NaN         NaN   \n",
       "5         Lvl    AllPub  ...           0        0    NaN    NaN         NaN   \n",
       "6         Lvl    AllPub  ...           0        0    NaN  GdPrv        Shed   \n",
       "7         Lvl    AllPub  ...           0        0    NaN    NaN         NaN   \n",
       "8         Lvl    AllPub  ...           0        0    NaN    NaN         NaN   \n",
       "9         Lvl    AllPub  ...           0        0    NaN  MnPrv         NaN   \n",
       "\n",
       "  MiscVal MoSold  YrSold  SaleType  SaleCondition  \n",
       "0       0      6    2010        WD         Normal  \n",
       "1   12500      6    2010        WD         Normal  \n",
       "2       0      3    2010        WD         Normal  \n",
       "3       0      6    2010        WD         Normal  \n",
       "4       0      1    2010        WD         Normal  \n",
       "5       0      4    2010        WD         Normal  \n",
       "6     500      3    2010        WD         Normal  \n",
       "7       0      5    2010        WD         Normal  \n",
       "8       0      2    2010        WD         Normal  \n",
       "9       0      4    2010        WD         Normal  \n",
       "\n",
       "[10 rows x 80 columns]"
      ]
     },
     "execution_count": 6,
     "metadata": {},
     "output_type": "execute_result"
    }
   ],
   "source": [
    "test.head(10)"
   ]
  },
  {
   "cell_type": "code",
   "execution_count": 7,
   "id": "9d8248f2",
   "metadata": {
    "execution": {
     "iopub.execute_input": "2022-11-07T15:41:39.619445Z",
     "iopub.status.busy": "2022-11-07T15:41:39.618902Z",
     "iopub.status.idle": "2022-11-07T15:41:39.654493Z",
     "shell.execute_reply": "2022-11-07T15:41:39.653530Z"
    },
    "papermill": {
     "duration": 0.056921,
     "end_time": "2022-11-07T15:41:39.656701",
     "exception": false,
     "start_time": "2022-11-07T15:41:39.599780",
     "status": "completed"
    },
    "tags": []
   },
   "outputs": [
    {
     "data": {
      "text/html": [
       "<div>\n",
       "<style scoped>\n",
       "    .dataframe tbody tr th:only-of-type {\n",
       "        vertical-align: middle;\n",
       "    }\n",
       "\n",
       "    .dataframe tbody tr th {\n",
       "        vertical-align: top;\n",
       "    }\n",
       "\n",
       "    .dataframe thead th {\n",
       "        text-align: right;\n",
       "    }\n",
       "</style>\n",
       "<table border=\"1\" class=\"dataframe\">\n",
       "  <thead>\n",
       "    <tr style=\"text-align: right;\">\n",
       "      <th></th>\n",
       "      <th>Id</th>\n",
       "      <th>MSSubClass</th>\n",
       "      <th>MSZoning</th>\n",
       "      <th>LotFrontage</th>\n",
       "      <th>LotArea</th>\n",
       "      <th>Street</th>\n",
       "      <th>Alley</th>\n",
       "      <th>LotShape</th>\n",
       "      <th>LandContour</th>\n",
       "      <th>Utilities</th>\n",
       "      <th>...</th>\n",
       "      <th>PoolArea</th>\n",
       "      <th>PoolQC</th>\n",
       "      <th>Fence</th>\n",
       "      <th>MiscFeature</th>\n",
       "      <th>MiscVal</th>\n",
       "      <th>MoSold</th>\n",
       "      <th>YrSold</th>\n",
       "      <th>SaleType</th>\n",
       "      <th>SaleCondition</th>\n",
       "      <th>SalePrice</th>\n",
       "    </tr>\n",
       "  </thead>\n",
       "  <tbody>\n",
       "    <tr>\n",
       "      <th>0</th>\n",
       "      <td>1</td>\n",
       "      <td>60</td>\n",
       "      <td>RL</td>\n",
       "      <td>65.000</td>\n",
       "      <td>8450</td>\n",
       "      <td>Pave</td>\n",
       "      <td>NaN</td>\n",
       "      <td>Reg</td>\n",
       "      <td>Lvl</td>\n",
       "      <td>AllPub</td>\n",
       "      <td>...</td>\n",
       "      <td>0</td>\n",
       "      <td>NaN</td>\n",
       "      <td>NaN</td>\n",
       "      <td>NaN</td>\n",
       "      <td>0</td>\n",
       "      <td>2</td>\n",
       "      <td>2008</td>\n",
       "      <td>WD</td>\n",
       "      <td>Normal</td>\n",
       "      <td>12.248</td>\n",
       "    </tr>\n",
       "    <tr>\n",
       "      <th>1</th>\n",
       "      <td>2</td>\n",
       "      <td>20</td>\n",
       "      <td>RL</td>\n",
       "      <td>80.000</td>\n",
       "      <td>9600</td>\n",
       "      <td>Pave</td>\n",
       "      <td>NaN</td>\n",
       "      <td>Reg</td>\n",
       "      <td>Lvl</td>\n",
       "      <td>AllPub</td>\n",
       "      <td>...</td>\n",
       "      <td>0</td>\n",
       "      <td>NaN</td>\n",
       "      <td>NaN</td>\n",
       "      <td>NaN</td>\n",
       "      <td>0</td>\n",
       "      <td>5</td>\n",
       "      <td>2007</td>\n",
       "      <td>WD</td>\n",
       "      <td>Normal</td>\n",
       "      <td>12.109</td>\n",
       "    </tr>\n",
       "    <tr>\n",
       "      <th>2</th>\n",
       "      <td>3</td>\n",
       "      <td>60</td>\n",
       "      <td>RL</td>\n",
       "      <td>68.000</td>\n",
       "      <td>11250</td>\n",
       "      <td>Pave</td>\n",
       "      <td>NaN</td>\n",
       "      <td>IR1</td>\n",
       "      <td>Lvl</td>\n",
       "      <td>AllPub</td>\n",
       "      <td>...</td>\n",
       "      <td>0</td>\n",
       "      <td>NaN</td>\n",
       "      <td>NaN</td>\n",
       "      <td>NaN</td>\n",
       "      <td>0</td>\n",
       "      <td>9</td>\n",
       "      <td>2008</td>\n",
       "      <td>WD</td>\n",
       "      <td>Normal</td>\n",
       "      <td>12.317</td>\n",
       "    </tr>\n",
       "    <tr>\n",
       "      <th>3</th>\n",
       "      <td>4</td>\n",
       "      <td>70</td>\n",
       "      <td>RL</td>\n",
       "      <td>60.000</td>\n",
       "      <td>9550</td>\n",
       "      <td>Pave</td>\n",
       "      <td>NaN</td>\n",
       "      <td>IR1</td>\n",
       "      <td>Lvl</td>\n",
       "      <td>AllPub</td>\n",
       "      <td>...</td>\n",
       "      <td>0</td>\n",
       "      <td>NaN</td>\n",
       "      <td>NaN</td>\n",
       "      <td>NaN</td>\n",
       "      <td>0</td>\n",
       "      <td>2</td>\n",
       "      <td>2006</td>\n",
       "      <td>WD</td>\n",
       "      <td>Abnorml</td>\n",
       "      <td>11.849</td>\n",
       "    </tr>\n",
       "    <tr>\n",
       "      <th>4</th>\n",
       "      <td>5</td>\n",
       "      <td>60</td>\n",
       "      <td>RL</td>\n",
       "      <td>84.000</td>\n",
       "      <td>14260</td>\n",
       "      <td>Pave</td>\n",
       "      <td>NaN</td>\n",
       "      <td>IR1</td>\n",
       "      <td>Lvl</td>\n",
       "      <td>AllPub</td>\n",
       "      <td>...</td>\n",
       "      <td>0</td>\n",
       "      <td>NaN</td>\n",
       "      <td>NaN</td>\n",
       "      <td>NaN</td>\n",
       "      <td>0</td>\n",
       "      <td>12</td>\n",
       "      <td>2008</td>\n",
       "      <td>WD</td>\n",
       "      <td>Normal</td>\n",
       "      <td>12.429</td>\n",
       "    </tr>\n",
       "    <tr>\n",
       "      <th>5</th>\n",
       "      <td>6</td>\n",
       "      <td>50</td>\n",
       "      <td>RL</td>\n",
       "      <td>85.000</td>\n",
       "      <td>14115</td>\n",
       "      <td>Pave</td>\n",
       "      <td>NaN</td>\n",
       "      <td>IR1</td>\n",
       "      <td>Lvl</td>\n",
       "      <td>AllPub</td>\n",
       "      <td>...</td>\n",
       "      <td>0</td>\n",
       "      <td>NaN</td>\n",
       "      <td>MnPrv</td>\n",
       "      <td>Shed</td>\n",
       "      <td>700</td>\n",
       "      <td>10</td>\n",
       "      <td>2009</td>\n",
       "      <td>WD</td>\n",
       "      <td>Normal</td>\n",
       "      <td>11.871</td>\n",
       "    </tr>\n",
       "    <tr>\n",
       "      <th>6</th>\n",
       "      <td>7</td>\n",
       "      <td>20</td>\n",
       "      <td>RL</td>\n",
       "      <td>75.000</td>\n",
       "      <td>10084</td>\n",
       "      <td>Pave</td>\n",
       "      <td>NaN</td>\n",
       "      <td>Reg</td>\n",
       "      <td>Lvl</td>\n",
       "      <td>AllPub</td>\n",
       "      <td>...</td>\n",
       "      <td>0</td>\n",
       "      <td>NaN</td>\n",
       "      <td>NaN</td>\n",
       "      <td>NaN</td>\n",
       "      <td>0</td>\n",
       "      <td>8</td>\n",
       "      <td>2007</td>\n",
       "      <td>WD</td>\n",
       "      <td>Normal</td>\n",
       "      <td>12.635</td>\n",
       "    </tr>\n",
       "    <tr>\n",
       "      <th>7</th>\n",
       "      <td>8</td>\n",
       "      <td>60</td>\n",
       "      <td>RL</td>\n",
       "      <td>NaN</td>\n",
       "      <td>10382</td>\n",
       "      <td>Pave</td>\n",
       "      <td>NaN</td>\n",
       "      <td>IR1</td>\n",
       "      <td>Lvl</td>\n",
       "      <td>AllPub</td>\n",
       "      <td>...</td>\n",
       "      <td>0</td>\n",
       "      <td>NaN</td>\n",
       "      <td>NaN</td>\n",
       "      <td>Shed</td>\n",
       "      <td>350</td>\n",
       "      <td>11</td>\n",
       "      <td>2009</td>\n",
       "      <td>WD</td>\n",
       "      <td>Normal</td>\n",
       "      <td>12.206</td>\n",
       "    </tr>\n",
       "    <tr>\n",
       "      <th>8</th>\n",
       "      <td>9</td>\n",
       "      <td>50</td>\n",
       "      <td>RM</td>\n",
       "      <td>51.000</td>\n",
       "      <td>6120</td>\n",
       "      <td>Pave</td>\n",
       "      <td>NaN</td>\n",
       "      <td>Reg</td>\n",
       "      <td>Lvl</td>\n",
       "      <td>AllPub</td>\n",
       "      <td>...</td>\n",
       "      <td>0</td>\n",
       "      <td>NaN</td>\n",
       "      <td>NaN</td>\n",
       "      <td>NaN</td>\n",
       "      <td>0</td>\n",
       "      <td>4</td>\n",
       "      <td>2008</td>\n",
       "      <td>WD</td>\n",
       "      <td>Abnorml</td>\n",
       "      <td>11.775</td>\n",
       "    </tr>\n",
       "    <tr>\n",
       "      <th>9</th>\n",
       "      <td>10</td>\n",
       "      <td>190</td>\n",
       "      <td>RL</td>\n",
       "      <td>50.000</td>\n",
       "      <td>7420</td>\n",
       "      <td>Pave</td>\n",
       "      <td>NaN</td>\n",
       "      <td>Reg</td>\n",
       "      <td>Lvl</td>\n",
       "      <td>AllPub</td>\n",
       "      <td>...</td>\n",
       "      <td>0</td>\n",
       "      <td>NaN</td>\n",
       "      <td>NaN</td>\n",
       "      <td>NaN</td>\n",
       "      <td>0</td>\n",
       "      <td>1</td>\n",
       "      <td>2008</td>\n",
       "      <td>WD</td>\n",
       "      <td>Normal</td>\n",
       "      <td>11.678</td>\n",
       "    </tr>\n",
       "  </tbody>\n",
       "</table>\n",
       "<p>10 rows × 81 columns</p>\n",
       "</div>"
      ],
      "text/plain": [
       "   Id  MSSubClass MSZoning  LotFrontage  LotArea Street Alley LotShape  \\\n",
       "0   1          60       RL       65.000     8450   Pave   NaN      Reg   \n",
       "1   2          20       RL       80.000     9600   Pave   NaN      Reg   \n",
       "2   3          60       RL       68.000    11250   Pave   NaN      IR1   \n",
       "3   4          70       RL       60.000     9550   Pave   NaN      IR1   \n",
       "4   5          60       RL       84.000    14260   Pave   NaN      IR1   \n",
       "5   6          50       RL       85.000    14115   Pave   NaN      IR1   \n",
       "6   7          20       RL       75.000    10084   Pave   NaN      Reg   \n",
       "7   8          60       RL          NaN    10382   Pave   NaN      IR1   \n",
       "8   9          50       RM       51.000     6120   Pave   NaN      Reg   \n",
       "9  10         190       RL       50.000     7420   Pave   NaN      Reg   \n",
       "\n",
       "  LandContour Utilities  ... PoolArea PoolQC  Fence MiscFeature MiscVal  \\\n",
       "0         Lvl    AllPub  ...        0    NaN    NaN         NaN       0   \n",
       "1         Lvl    AllPub  ...        0    NaN    NaN         NaN       0   \n",
       "2         Lvl    AllPub  ...        0    NaN    NaN         NaN       0   \n",
       "3         Lvl    AllPub  ...        0    NaN    NaN         NaN       0   \n",
       "4         Lvl    AllPub  ...        0    NaN    NaN         NaN       0   \n",
       "5         Lvl    AllPub  ...        0    NaN  MnPrv        Shed     700   \n",
       "6         Lvl    AllPub  ...        0    NaN    NaN         NaN       0   \n",
       "7         Lvl    AllPub  ...        0    NaN    NaN        Shed     350   \n",
       "8         Lvl    AllPub  ...        0    NaN    NaN         NaN       0   \n",
       "9         Lvl    AllPub  ...        0    NaN    NaN         NaN       0   \n",
       "\n",
       "  MoSold YrSold  SaleType  SaleCondition  SalePrice  \n",
       "0      2   2008        WD         Normal     12.248  \n",
       "1      5   2007        WD         Normal     12.109  \n",
       "2      9   2008        WD         Normal     12.317  \n",
       "3      2   2006        WD        Abnorml     11.849  \n",
       "4     12   2008        WD         Normal     12.429  \n",
       "5     10   2009        WD         Normal     11.871  \n",
       "6      8   2007        WD         Normal     12.635  \n",
       "7     11   2009        WD         Normal     12.206  \n",
       "8      4   2008        WD        Abnorml     11.775  \n",
       "9      1   2008        WD         Normal     11.678  \n",
       "\n",
       "[10 rows x 81 columns]"
      ]
     },
     "execution_count": 7,
     "metadata": {},
     "output_type": "execute_result"
    }
   ],
   "source": [
    "train.head(10)"
   ]
  },
  {
   "cell_type": "code",
   "execution_count": null,
   "id": "5368ac17",
   "metadata": {
    "papermill": {
     "duration": 0.011399,
     "end_time": "2022-11-07T15:41:39.679873",
     "exception": false,
     "start_time": "2022-11-07T15:41:39.668474",
     "status": "completed"
    },
    "tags": []
   },
   "outputs": [],
   "source": []
  },
  {
   "cell_type": "code",
   "execution_count": 8,
   "id": "0920665e",
   "metadata": {
    "execution": {
     "iopub.execute_input": "2022-11-07T15:41:39.705474Z",
     "iopub.status.busy": "2022-11-07T15:41:39.703792Z",
     "iopub.status.idle": "2022-11-07T15:41:39.731994Z",
     "shell.execute_reply": "2022-11-07T15:41:39.730855Z"
    },
    "papermill": {
     "duration": 0.043751,
     "end_time": "2022-11-07T15:41:39.735013",
     "exception": false,
     "start_time": "2022-11-07T15:41:39.691262",
     "status": "completed"
    },
    "tags": []
   },
   "outputs": [
    {
     "name": "stdout",
     "output_type": "stream",
     "text": [
      "<class 'pandas.core.frame.DataFrame'>\n",
      "RangeIndex: 1460 entries, 0 to 1459\n",
      "Data columns (total 81 columns):\n",
      " #   Column         Non-Null Count  Dtype  \n",
      "---  ------         --------------  -----  \n",
      " 0   Id             1460 non-null   int64  \n",
      " 1   MSSubClass     1460 non-null   int64  \n",
      " 2   MSZoning       1460 non-null   object \n",
      " 3   LotFrontage    1201 non-null   float64\n",
      " 4   LotArea        1460 non-null   int64  \n",
      " 5   Street         1460 non-null   object \n",
      " 6   Alley          91 non-null     object \n",
      " 7   LotShape       1460 non-null   object \n",
      " 8   LandContour    1460 non-null   object \n",
      " 9   Utilities      1460 non-null   object \n",
      " 10  LotConfig      1460 non-null   object \n",
      " 11  LandSlope      1460 non-null   object \n",
      " 12  Neighborhood   1460 non-null   object \n",
      " 13  Condition1     1460 non-null   object \n",
      " 14  Condition2     1460 non-null   object \n",
      " 15  BldgType       1460 non-null   object \n",
      " 16  HouseStyle     1460 non-null   object \n",
      " 17  OverallQual    1460 non-null   int64  \n",
      " 18  OverallCond    1460 non-null   int64  \n",
      " 19  YearBuilt      1460 non-null   int64  \n",
      " 20  YearRemodAdd   1460 non-null   int64  \n",
      " 21  RoofStyle      1460 non-null   object \n",
      " 22  RoofMatl       1460 non-null   object \n",
      " 23  Exterior1st    1460 non-null   object \n",
      " 24  Exterior2nd    1460 non-null   object \n",
      " 25  MasVnrType     1452 non-null   object \n",
      " 26  MasVnrArea     1452 non-null   float64\n",
      " 27  ExterQual      1460 non-null   object \n",
      " 28  ExterCond      1460 non-null   object \n",
      " 29  Foundation     1460 non-null   object \n",
      " 30  BsmtQual       1423 non-null   object \n",
      " 31  BsmtCond       1423 non-null   object \n",
      " 32  BsmtExposure   1422 non-null   object \n",
      " 33  BsmtFinType1   1423 non-null   object \n",
      " 34  BsmtFinSF1     1460 non-null   int64  \n",
      " 35  BsmtFinType2   1422 non-null   object \n",
      " 36  BsmtFinSF2     1460 non-null   int64  \n",
      " 37  BsmtUnfSF      1460 non-null   int64  \n",
      " 38  TotalBsmtSF    1460 non-null   int64  \n",
      " 39  Heating        1460 non-null   object \n",
      " 40  HeatingQC      1460 non-null   object \n",
      " 41  CentralAir     1460 non-null   object \n",
      " 42  Electrical     1459 non-null   object \n",
      " 43  1stFlrSF       1460 non-null   int64  \n",
      " 44  2ndFlrSF       1460 non-null   int64  \n",
      " 45  LowQualFinSF   1460 non-null   int64  \n",
      " 46  GrLivArea      1460 non-null   int64  \n",
      " 47  BsmtFullBath   1460 non-null   int64  \n",
      " 48  BsmtHalfBath   1460 non-null   int64  \n",
      " 49  FullBath       1460 non-null   int64  \n",
      " 50  HalfBath       1460 non-null   int64  \n",
      " 51  BedroomAbvGr   1460 non-null   int64  \n",
      " 52  KitchenAbvGr   1460 non-null   int64  \n",
      " 53  KitchenQual    1460 non-null   object \n",
      " 54  TotRmsAbvGrd   1460 non-null   int64  \n",
      " 55  Functional     1460 non-null   object \n",
      " 56  Fireplaces     1460 non-null   int64  \n",
      " 57  FireplaceQu    770 non-null    object \n",
      " 58  GarageType     1379 non-null   object \n",
      " 59  GarageYrBlt    1379 non-null   float64\n",
      " 60  GarageFinish   1379 non-null   object \n",
      " 61  GarageCars     1460 non-null   int64  \n",
      " 62  GarageArea     1460 non-null   int64  \n",
      " 63  GarageQual     1379 non-null   object \n",
      " 64  GarageCond     1379 non-null   object \n",
      " 65  PavedDrive     1460 non-null   object \n",
      " 66  WoodDeckSF     1460 non-null   int64  \n",
      " 67  OpenPorchSF    1460 non-null   int64  \n",
      " 68  EnclosedPorch  1460 non-null   int64  \n",
      " 69  3SsnPorch      1460 non-null   int64  \n",
      " 70  ScreenPorch    1460 non-null   int64  \n",
      " 71  PoolArea       1460 non-null   int64  \n",
      " 72  PoolQC         7 non-null      object \n",
      " 73  Fence          281 non-null    object \n",
      " 74  MiscFeature    54 non-null     object \n",
      " 75  MiscVal        1460 non-null   int64  \n",
      " 76  MoSold         1460 non-null   int64  \n",
      " 77  YrSold         1460 non-null   int64  \n",
      " 78  SaleType       1460 non-null   object \n",
      " 79  SaleCondition  1460 non-null   object \n",
      " 80  SalePrice      1460 non-null   float64\n",
      "dtypes: float64(4), int64(34), object(43)\n",
      "memory usage: 924.0+ KB\n"
     ]
    }
   ],
   "source": [
    "train.info()"
   ]
  },
  {
   "cell_type": "markdown",
   "id": "40bbbf90",
   "metadata": {
    "papermill": {
     "duration": 0.011263,
     "end_time": "2022-11-07T15:41:39.758249",
     "exception": false,
     "start_time": "2022-11-07T15:41:39.746986",
     "status": "completed"
    },
    "tags": []
   },
   "source": [
    "Here are all the different columns in the dataset"
   ]
  },
  {
   "cell_type": "code",
   "execution_count": 9,
   "id": "07aeafd9",
   "metadata": {
    "execution": {
     "iopub.execute_input": "2022-11-07T15:41:39.782953Z",
     "iopub.status.busy": "2022-11-07T15:41:39.782594Z",
     "iopub.status.idle": "2022-11-07T15:41:40.163173Z",
     "shell.execute_reply": "2022-11-07T15:41:40.162196Z"
    },
    "papermill": {
     "duration": 0.395227,
     "end_time": "2022-11-07T15:41:40.165209",
     "exception": false,
     "start_time": "2022-11-07T15:41:39.769982",
     "status": "completed"
    },
    "tags": []
   },
   "outputs": [
    {
     "data": {
      "image/png": "[encoded data removed]",
      "text/plain": [
       "<Figure size 432x288 with 1 Axes>"
      ]
     },
     "metadata": {},
     "output_type": "display_data"
    }
   ],
   "source": [
    "sns.histplot(train['SalePrice']);"
   ]
  },
  {
   "cell_type": "markdown",
   "id": "c65c9e12",
   "metadata": {
    "papermill": {
     "duration": 0.011719,
     "end_time": "2022-11-07T15:41:40.188605",
     "exception": false,
     "start_time": "2022-11-07T15:41:40.176886",
     "status": "completed"
    },
    "tags": []
   },
   "source": [
    "We can see that the SalePrice increases the newer the house is."
   ]
  },
  {
   "cell_type": "code",
   "execution_count": 10,
   "id": "1393d96d",
   "metadata": {
    "execution": {
     "iopub.execute_input": "2022-11-07T15:41:40.214831Z",
     "iopub.status.busy": "2022-11-07T15:41:40.213112Z",
     "iopub.status.idle": "2022-11-07T15:41:40.464505Z",
     "shell.execute_reply": "2022-11-07T15:41:40.463607Z"
    },
    "papermill": {
     "duration": 0.266469,
     "end_time": "2022-11-07T15:41:40.466619",
     "exception": false,
     "start_time": "2022-11-07T15:41:40.200150",
     "status": "completed"
    },
    "tags": []
   },
   "outputs": [
    {
     "data": {
      "image/png": "[encoded data removed]",
      "text/plain": [
       "<Figure size 432x288 with 1 Axes>"
      ]
     },
     "metadata": {},
     "output_type": "display_data"
    }
   ],
   "source": [
    "fig, ax = plt.subplots()\n",
    "ax.scatter(x = train['YearBuilt'], y = train['SalePrice'])\n",
    "plt.ylabel('SalePrice', fontsize=13)\n",
    "plt.xlabel('YearBuilt', fontsize=13)\n",
    "plt.show()"
   ]
  },
  {
   "cell_type": "markdown",
   "id": "b26c61a2",
   "metadata": {
    "papermill": {
     "duration": 0.012305,
     "end_time": "2022-11-07T15:41:40.491363",
     "exception": false,
     "start_time": "2022-11-07T15:41:40.479058",
     "status": "completed"
    },
    "tags": []
   },
   "source": [
    "We use a heatmap to see which variables that SalePrice correlates the most with. We spot that OverallQual correlates the most with SalePrice so we will keep and eye on those variables."
   ]
  },
  {
   "cell_type": "code",
   "execution_count": 11,
   "id": "8f327453",
   "metadata": {
    "execution": {
     "iopub.execute_input": "2022-11-07T15:41:40.517987Z",
     "iopub.status.busy": "2022-11-07T15:41:40.517205Z",
     "iopub.status.idle": "2022-11-07T15:41:41.823107Z",
     "shell.execute_reply": "2022-11-07T15:41:41.822081Z"
    },
    "papermill": {
     "duration": 1.322353,
     "end_time": "2022-11-07T15:41:41.826015",
     "exception": false,
     "start_time": "2022-11-07T15:41:40.503662",
     "status": "completed"
    },
    "tags": []
   },
   "outputs": [
    {
     "data": {
      "text/plain": [
       "<AxesSubplot:>"
      ]
     },
     "execution_count": 11,
     "metadata": {},
     "output_type": "execute_result"
    },
    {
     "data": {
      "image/png": "[encoded data removed]",
      "text/plain": [
       "<Figure size 1080x864 with 2 Axes>"
      ]
     },
     "metadata": {},
     "output_type": "display_data"
    }
   ],
   "source": [
    "corr = train.corr()\n",
    "plt.subplots(figsize=(15,12))\n",
    "sns.heatmap(corr, vmax=0.9, square=True)"
   ]
  },
  {
   "cell_type": "markdown",
   "id": "003d2d34",
   "metadata": {
    "papermill": {
     "duration": 0.013634,
     "end_time": "2022-11-07T15:41:41.853391",
     "exception": false,
     "start_time": "2022-11-07T15:41:41.839757",
     "status": "completed"
    },
    "tags": []
   },
   "source": [
    "### Outliers"
   ]
  },
  {
   "cell_type": "markdown",
   "id": "9764252e",
   "metadata": {
    "papermill": {
     "duration": 0.01337,
     "end_time": "2022-11-07T15:41:41.880237",
     "exception": false,
     "start_time": "2022-11-07T15:41:41.866867",
     "status": "completed"
    },
    "tags": []
   },
   "source": [
    "We have to get rid of some outliers because they will make it harder to predict the price correctly."
   ]
  },
  {
   "cell_type": "code",
   "execution_count": 12,
   "id": "357e8e3f",
   "metadata": {
    "execution": {
     "iopub.execute_input": "2022-11-07T15:41:41.909021Z",
     "iopub.status.busy": "2022-11-07T15:41:41.908654Z",
     "iopub.status.idle": "2022-11-07T15:41:42.143048Z",
     "shell.execute_reply": "2022-11-07T15:41:42.142039Z"
    },
    "papermill": {
     "duration": 0.251311,
     "end_time": "2022-11-07T15:41:42.145182",
     "exception": false,
     "start_time": "2022-11-07T15:41:41.893871",
     "status": "completed"
    },
    "tags": []
   },
   "outputs": [
    {
     "data": {
      "image/png": "[encoded data removed]",
      "text/plain": [
       "<Figure size 432x288 with 1 Axes>"
      ]
     },
     "metadata": {},
     "output_type": "display_data"
    }
   ],
   "source": [
    "fig, ax = plt.subplots()\n",
    "ax.scatter(x = train['GrLivArea'], y = train['SalePrice'])\n",
    "plt.ylabel('SalePrice', fontsize=13)\n",
    "plt.xlabel('GrLivArea', fontsize=13)\n",
    "plt.show()"
   ]
  },
  {
   "cell_type": "markdown",
   "id": "b78027f3",
   "metadata": {
    "papermill": {
     "duration": 0.01337,
     "end_time": "2022-11-07T15:41:42.172518",
     "exception": false,
     "start_time": "2022-11-07T15:41:42.159148",
     "status": "completed"
    },
    "tags": []
   },
   "source": [
    "As we can see there are two outliers very far to the right. They are two huge outliers because they have huge GrLivArea at a very low price, if we include these outliers in the training they will significantly decrease the total prediction price. So we will remove them."
   ]
  },
  {
   "cell_type": "code",
   "execution_count": 13,
   "id": "56f6e6d9",
   "metadata": {
    "execution": {
     "iopub.execute_input": "2022-11-07T15:41:42.202908Z",
     "iopub.status.busy": "2022-11-07T15:41:42.201134Z",
     "iopub.status.idle": "2022-11-07T15:41:42.446769Z",
     "shell.execute_reply": "2022-11-07T15:41:42.445844Z"
    },
    "papermill": {
     "duration": 0.262748,
     "end_time": "2022-11-07T15:41:42.448953",
     "exception": false,
     "start_time": "2022-11-07T15:41:42.186205",
     "status": "completed"
    },
    "tags": []
   },
   "outputs": [
    {
     "data": {
      "image/png": "[encoded data removed]",
      "text/plain": [
       "<Figure size 432x288 with 1 Axes>"
      ]
     },
     "metadata": {},
     "output_type": "display_data"
    }
   ],
   "source": [
    "#Deleting outliers\n",
    "train = train.drop(train[(train['GrLivArea']>4000) & (train['SalePrice']<300000)].index)\n",
    "\n",
    "#Check the graphic again\n",
    "fig, ax = plt.subplots()\n",
    "ax.scatter(train['GrLivArea'], train['SalePrice'])\n",
    "plt.ylabel('SalePrice', fontsize=13)\n",
    "plt.xlabel('GrLivArea', fontsize=13)\n",
    "plt.show()"
   ]
  },
  {
   "cell_type": "markdown",
   "id": "b92448c6",
   "metadata": {
    "papermill": {
     "duration": 0.014148,
     "end_time": "2022-11-07T15:41:42.477313",
     "exception": false,
     "start_time": "2022-11-07T15:41:42.463165",
     "status": "completed"
    },
    "tags": []
   },
   "source": [
    "### Handle missing variables"
   ]
  },
  {
   "cell_type": "markdown",
   "id": "4f4c3f0e",
   "metadata": {
    "papermill": {
     "duration": 0.013794,
     "end_time": "2022-11-07T15:41:42.505711",
     "exception": false,
     "start_time": "2022-11-07T15:41:42.491917",
     "status": "completed"
    },
    "tags": []
   },
   "source": [
    "We choose to make a dataset with both train and test to make things easier."
   ]
  },
  {
   "cell_type": "code",
   "execution_count": 14,
   "id": "36fe2125",
   "metadata": {
    "execution": {
     "iopub.execute_input": "2022-11-07T15:41:42.535110Z",
     "iopub.status.busy": "2022-11-07T15:41:42.534749Z",
     "iopub.status.idle": "2022-11-07T15:41:42.565216Z",
     "shell.execute_reply": "2022-11-07T15:41:42.563901Z"
    },
    "papermill": {
     "duration": 0.048372,
     "end_time": "2022-11-07T15:41:42.567951",
     "exception": false,
     "start_time": "2022-11-07T15:41:42.519579",
     "status": "completed"
    },
    "tags": []
   },
   "outputs": [
    {
     "name": "stdout",
     "output_type": "stream",
     "text": [
      "all_data size is : (2915, 80)\n"
     ]
    }
   ],
   "source": [
    "ntrain = train.shape[0]\n",
    "ntest = test.shape[0]\n",
    "y_train = train.SalePrice.values\n",
    "all_data = pd.concat((train, test)).reset_index(drop=True)\n",
    "all_data.drop(['SalePrice'], axis=1, inplace=True)\n",
    "print(\"all_data size is : {}\".format(all_data.shape))"
   ]
  },
  {
   "cell_type": "markdown",
   "id": "ac3a9245",
   "metadata": {
    "papermill": {
     "duration": 0.014023,
     "end_time": "2022-11-07T15:41:42.597064",
     "exception": false,
     "start_time": "2022-11-07T15:41:42.583041",
     "status": "completed"
    },
    "tags": []
   },
   "source": [
    "There are a lot of variables that have missing values, especially things like pools, fireplace, basement and garages, which all houses dont have."
   ]
  },
  {
   "cell_type": "code",
   "execution_count": 15,
   "id": "00048695",
   "metadata": {
    "execution": {
     "iopub.execute_input": "2022-11-07T15:41:42.627931Z",
     "iopub.status.busy": "2022-11-07T15:41:42.626800Z",
     "iopub.status.idle": "2022-11-07T15:41:42.646620Z",
     "shell.execute_reply": "2022-11-07T15:41:42.645313Z"
    },
    "papermill": {
     "duration": 0.038089,
     "end_time": "2022-11-07T15:41:42.649644",
     "exception": false,
     "start_time": "2022-11-07T15:41:42.611555",
     "status": "completed"
    },
    "tags": []
   },
   "outputs": [
    {
     "data": {
      "text/html": [
       "<div>\n",
       "<style scoped>\n",
       "    .dataframe tbody tr th:only-of-type {\n",
       "        vertical-align: middle;\n",
       "    }\n",
       "\n",
       "    .dataframe tbody tr th {\n",
       "        vertical-align: top;\n",
       "    }\n",
       "\n",
       "    .dataframe thead th {\n",
       "        text-align: right;\n",
       "    }\n",
       "</style>\n",
       "<table border=\"1\" class=\"dataframe\">\n",
       "  <thead>\n",
       "    <tr style=\"text-align: right;\">\n",
       "      <th></th>\n",
       "      <th>Missing Ratio</th>\n",
       "    </tr>\n",
       "  </thead>\n",
       "  <tbody>\n",
       "    <tr>\n",
       "      <th>PoolQC</th>\n",
       "      <td>99.726</td>\n",
       "    </tr>\n",
       "    <tr>\n",
       "      <th>MiscFeature</th>\n",
       "      <td>96.398</td>\n",
       "    </tr>\n",
       "    <tr>\n",
       "      <th>Alley</th>\n",
       "      <td>93.208</td>\n",
       "    </tr>\n",
       "    <tr>\n",
       "      <th>Fence</th>\n",
       "      <td>80.446</td>\n",
       "    </tr>\n",
       "    <tr>\n",
       "      <th>FireplaceQu</th>\n",
       "      <td>48.714</td>\n",
       "    </tr>\n",
       "    <tr>\n",
       "      <th>LotFrontage</th>\n",
       "      <td>16.672</td>\n",
       "    </tr>\n",
       "    <tr>\n",
       "      <th>GarageFinish</th>\n",
       "      <td>5.455</td>\n",
       "    </tr>\n",
       "    <tr>\n",
       "      <th>GarageQual</th>\n",
       "      <td>5.455</td>\n",
       "    </tr>\n",
       "    <tr>\n",
       "      <th>GarageCond</th>\n",
       "      <td>5.455</td>\n",
       "    </tr>\n",
       "    <tr>\n",
       "      <th>GarageYrBlt</th>\n",
       "      <td>5.455</td>\n",
       "    </tr>\n",
       "    <tr>\n",
       "      <th>GarageType</th>\n",
       "      <td>5.386</td>\n",
       "    </tr>\n",
       "    <tr>\n",
       "      <th>BsmtExposure</th>\n",
       "      <td>2.813</td>\n",
       "    </tr>\n",
       "    <tr>\n",
       "      <th>BsmtCond</th>\n",
       "      <td>2.813</td>\n",
       "    </tr>\n",
       "    <tr>\n",
       "      <th>BsmtQual</th>\n",
       "      <td>2.779</td>\n",
       "    </tr>\n",
       "    <tr>\n",
       "      <th>BsmtFinType2</th>\n",
       "      <td>2.744</td>\n",
       "    </tr>\n",
       "    <tr>\n",
       "      <th>BsmtFinType1</th>\n",
       "      <td>2.710</td>\n",
       "    </tr>\n",
       "    <tr>\n",
       "      <th>MasVnrType</th>\n",
       "      <td>0.823</td>\n",
       "    </tr>\n",
       "    <tr>\n",
       "      <th>MasVnrArea</th>\n",
       "      <td>0.789</td>\n",
       "    </tr>\n",
       "    <tr>\n",
       "      <th>MSZoning</th>\n",
       "      <td>0.137</td>\n",
       "    </tr>\n",
       "    <tr>\n",
       "      <th>BsmtFullBath</th>\n",
       "      <td>0.069</td>\n",
       "    </tr>\n",
       "  </tbody>\n",
       "</table>\n",
       "</div>"
      ],
      "text/plain": [
       "              Missing Ratio\n",
       "PoolQC               99.726\n",
       "MiscFeature          96.398\n",
       "Alley                93.208\n",
       "Fence                80.446\n",
       "FireplaceQu          48.714\n",
       "LotFrontage          16.672\n",
       "GarageFinish          5.455\n",
       "GarageQual            5.455\n",
       "GarageCond            5.455\n",
       "GarageYrBlt           5.455\n",
       "GarageType            5.386\n",
       "BsmtExposure          2.813\n",
       "BsmtCond              2.813\n",
       "BsmtQual              2.779\n",
       "BsmtFinType2          2.744\n",
       "BsmtFinType1          2.710\n",
       "MasVnrType            0.823\n",
       "MasVnrArea            0.789\n",
       "MSZoning              0.137\n",
       "BsmtFullBath          0.069"
      ]
     },
     "execution_count": 15,
     "metadata": {},
     "output_type": "execute_result"
    }
   ],
   "source": [
    "all_data_na = (all_data.isnull().sum() / len(all_data)) * 100\n",
    "all_data_na = all_data_na.drop(all_data_na[all_data_na == 0].index).sort_values(ascending=False)[:30]\n",
    "missing_data = pd.DataFrame({'Missing Ratio' :all_data_na})\n",
    "missing_data.head(20)"
   ]
  },
  {
   "cell_type": "code",
   "execution_count": 16,
   "id": "cba66699",
   "metadata": {
    "execution": {
     "iopub.execute_input": "2022-11-07T15:41:42.681996Z",
     "iopub.status.busy": "2022-11-07T15:41:42.681049Z",
     "iopub.status.idle": "2022-11-07T15:41:42.691996Z",
     "shell.execute_reply": "2022-11-07T15:41:42.691062Z"
    },
    "papermill": {
     "duration": 0.029069,
     "end_time": "2022-11-07T15:41:42.694198",
     "exception": false,
     "start_time": "2022-11-07T15:41:42.665129",
     "status": "completed"
    },
    "tags": []
   },
   "outputs": [],
   "source": [
    "all_data[\"PoolQC\"] = all_data[\"PoolQC\"].fillna(\"None\")\n",
    "all_data[\"MiscFeature\"] = all_data[\"MiscFeature\"].fillna(\"None\")\n",
    "all_data[\"Alley\"] = all_data[\"Alley\"].fillna(\"None\")\n",
    "all_data[\"Fence\"] = all_data[\"Fence\"].fillna(\"None\")\n",
    "all_data[\"FireplaceQu\"] = all_data[\"FireplaceQu\"].fillna(\"None\")\n"
   ]
  },
  {
   "cell_type": "code",
   "execution_count": 17,
   "id": "f04aa816",
   "metadata": {
    "execution": {
     "iopub.execute_input": "2022-11-07T15:41:42.726440Z",
     "iopub.status.busy": "2022-11-07T15:41:42.724659Z",
     "iopub.status.idle": "2022-11-07T15:41:42.745056Z",
     "shell.execute_reply": "2022-11-07T15:41:42.744061Z"
    },
    "papermill": {
     "duration": 0.038466,
     "end_time": "2022-11-07T15:41:42.747487",
     "exception": false,
     "start_time": "2022-11-07T15:41:42.709021",
     "status": "completed"
    },
    "tags": []
   },
   "outputs": [],
   "source": [
    "all_data[\"LotFrontage\"] = all_data.groupby(\"Neighborhood\")[\"LotFrontage\"].transform(\n",
    "    lambda x: x.fillna(x.median()))"
   ]
  },
  {
   "cell_type": "code",
   "execution_count": 18,
   "id": "7d9e501e",
   "metadata": {
    "execution": {
     "iopub.execute_input": "2022-11-07T15:41:42.778849Z",
     "iopub.status.busy": "2022-11-07T15:41:42.777925Z",
     "iopub.status.idle": "2022-11-07T15:41:42.786341Z",
     "shell.execute_reply": "2022-11-07T15:41:42.785467Z"
    },
    "papermill": {
     "duration": 0.026089,
     "end_time": "2022-11-07T15:41:42.788436",
     "exception": false,
     "start_time": "2022-11-07T15:41:42.762347",
     "status": "completed"
    },
    "tags": []
   },
   "outputs": [],
   "source": [
    "for col in ('GarageType', 'GarageFinish', 'GarageQual', 'GarageCond'):\n",
    "    all_data[col] = all_data[col].fillna('None')"
   ]
  },
  {
   "cell_type": "code",
   "execution_count": 19,
   "id": "1d1e747a",
   "metadata": {
    "execution": {
     "iopub.execute_input": "2022-11-07T15:41:42.818507Z",
     "iopub.status.busy": "2022-11-07T15:41:42.818150Z",
     "iopub.status.idle": "2022-11-07T15:41:42.825005Z",
     "shell.execute_reply": "2022-11-07T15:41:42.824069Z"
    },
    "papermill": {
     "duration": 0.024258,
     "end_time": "2022-11-07T15:41:42.826978",
     "exception": false,
     "start_time": "2022-11-07T15:41:42.802720",
     "status": "completed"
    },
    "tags": []
   },
   "outputs": [],
   "source": [
    "for col in ('GarageYrBlt', 'GarageArea', 'GarageCars'):\n",
    "    all_data[col] = all_data[col].fillna(0)"
   ]
  },
  {
   "cell_type": "code",
   "execution_count": 20,
   "id": "55022070",
   "metadata": {
    "execution": {
     "iopub.execute_input": "2022-11-07T15:41:42.857949Z",
     "iopub.status.busy": "2022-11-07T15:41:42.857593Z",
     "iopub.status.idle": "2022-11-07T15:41:42.865224Z",
     "shell.execute_reply": "2022-11-07T15:41:42.864336Z"
    },
    "papermill": {
     "duration": 0.025558,
     "end_time": "2022-11-07T15:41:42.867307",
     "exception": false,
     "start_time": "2022-11-07T15:41:42.841749",
     "status": "completed"
    },
    "tags": []
   },
   "outputs": [],
   "source": [
    "for col in ('BsmtFinSF1', 'BsmtFinSF2', 'BsmtUnfSF','TotalBsmtSF', 'BsmtFullBath', 'BsmtHalfBath'):\n",
    "    all_data[col] = all_data[col].fillna(0)"
   ]
  },
  {
   "cell_type": "code",
   "execution_count": 21,
   "id": "25d8b8b0",
   "metadata": {
    "execution": {
     "iopub.execute_input": "2022-11-07T15:41:42.897725Z",
     "iopub.status.busy": "2022-11-07T15:41:42.897343Z",
     "iopub.status.idle": "2022-11-07T15:41:42.905774Z",
     "shell.execute_reply": "2022-11-07T15:41:42.904875Z"
    },
    "papermill": {
     "duration": 0.02586,
     "end_time": "2022-11-07T15:41:42.907734",
     "exception": false,
     "start_time": "2022-11-07T15:41:42.881874",
     "status": "completed"
    },
    "tags": []
   },
   "outputs": [],
   "source": [
    "for col in ('BsmtQual', 'BsmtCond', 'BsmtExposure', 'BsmtFinType1', 'BsmtFinType2'):\n",
    "    all_data[col] = all_data[col].fillna('None')"
   ]
  },
  {
   "cell_type": "code",
   "execution_count": 22,
   "id": "fd24ae4d",
   "metadata": {
    "execution": {
     "iopub.execute_input": "2022-11-07T15:41:42.940175Z",
     "iopub.status.busy": "2022-11-07T15:41:42.939829Z",
     "iopub.status.idle": "2022-11-07T15:41:42.946481Z",
     "shell.execute_reply": "2022-11-07T15:41:42.945602Z"
    },
    "papermill": {
     "duration": 0.024472,
     "end_time": "2022-11-07T15:41:42.948614",
     "exception": false,
     "start_time": "2022-11-07T15:41:42.924142",
     "status": "completed"
    },
    "tags": []
   },
   "outputs": [],
   "source": [
    "all_data[\"MasVnrType\"] = all_data[\"MasVnrType\"].fillna(\"None\")\n",
    "all_data[\"MasVnrArea\"] = all_data[\"MasVnrArea\"].fillna(0)"
   ]
  },
  {
   "cell_type": "code",
   "execution_count": 23,
   "id": "5a347ce5",
   "metadata": {
    "execution": {
     "iopub.execute_input": "2022-11-07T15:41:42.979018Z",
     "iopub.status.busy": "2022-11-07T15:41:42.978671Z",
     "iopub.status.idle": "2022-11-07T15:41:42.985469Z",
     "shell.execute_reply": "2022-11-07T15:41:42.984578Z"
    },
    "papermill": {
     "duration": 0.024406,
     "end_time": "2022-11-07T15:41:42.987629",
     "exception": false,
     "start_time": "2022-11-07T15:41:42.963223",
     "status": "completed"
    },
    "tags": []
   },
   "outputs": [],
   "source": [
    "all_data['MSZoning'] = all_data['MSZoning'].fillna(all_data['MSZoning'].mode()[0])\n"
   ]
  },
  {
   "cell_type": "code",
   "execution_count": 24,
   "id": "ceca5de5",
   "metadata": {
    "execution": {
     "iopub.execute_input": "2022-11-07T15:41:43.018143Z",
     "iopub.status.busy": "2022-11-07T15:41:43.017806Z",
     "iopub.status.idle": "2022-11-07T15:41:43.025461Z",
     "shell.execute_reply": "2022-11-07T15:41:43.024532Z"
    },
    "papermill": {
     "duration": 0.025286,
     "end_time": "2022-11-07T15:41:43.027618",
     "exception": false,
     "start_time": "2022-11-07T15:41:43.002332",
     "status": "completed"
    },
    "tags": []
   },
   "outputs": [],
   "source": [
    "all_data = all_data.drop(['Utilities'], axis=1)\n"
   ]
  },
  {
   "cell_type": "code",
   "execution_count": 25,
   "id": "9f0d11c3",
   "metadata": {
    "execution": {
     "iopub.execute_input": "2022-11-07T15:41:43.058260Z",
     "iopub.status.busy": "2022-11-07T15:41:43.057907Z",
     "iopub.status.idle": "2022-11-07T15:41:43.063890Z",
     "shell.execute_reply": "2022-11-07T15:41:43.062912Z"
    },
    "papermill": {
     "duration": 0.023813,
     "end_time": "2022-11-07T15:41:43.065962",
     "exception": false,
     "start_time": "2022-11-07T15:41:43.042149",
     "status": "completed"
    },
    "tags": []
   },
   "outputs": [],
   "source": [
    "all_data[\"Functional\"] = all_data[\"Functional\"].fillna(\"Typ\")\n"
   ]
  },
  {
   "cell_type": "code",
   "execution_count": 26,
   "id": "47e6b6ff",
   "metadata": {
    "execution": {
     "iopub.execute_input": "2022-11-07T15:41:43.096282Z",
     "iopub.status.busy": "2022-11-07T15:41:43.095935Z",
     "iopub.status.idle": "2022-11-07T15:41:43.102204Z",
     "shell.execute_reply": "2022-11-07T15:41:43.101208Z"
    },
    "papermill": {
     "duration": 0.024147,
     "end_time": "2022-11-07T15:41:43.104301",
     "exception": false,
     "start_time": "2022-11-07T15:41:43.080154",
     "status": "completed"
    },
    "tags": []
   },
   "outputs": [],
   "source": [
    "all_data['Electrical'] = all_data['Electrical'].fillna(all_data['Electrical'].mode()[0])\n"
   ]
  },
  {
   "cell_type": "code",
   "execution_count": 27,
   "id": "fdcf052b",
   "metadata": {
    "execution": {
     "iopub.execute_input": "2022-11-07T15:41:43.135661Z",
     "iopub.status.busy": "2022-11-07T15:41:43.135239Z",
     "iopub.status.idle": "2022-11-07T15:41:43.142489Z",
     "shell.execute_reply": "2022-11-07T15:41:43.141594Z"
    },
    "papermill": {
     "duration": 0.025661,
     "end_time": "2022-11-07T15:41:43.144618",
     "exception": false,
     "start_time": "2022-11-07T15:41:43.118957",
     "status": "completed"
    },
    "tags": []
   },
   "outputs": [],
   "source": [
    "all_data['KitchenQual'] = all_data['KitchenQual'].fillna(all_data['KitchenQual'].mode()[0])\n"
   ]
  },
  {
   "cell_type": "code",
   "execution_count": 28,
   "id": "acc6a836",
   "metadata": {
    "execution": {
     "iopub.execute_input": "2022-11-07T15:41:43.175529Z",
     "iopub.status.busy": "2022-11-07T15:41:43.175157Z",
     "iopub.status.idle": "2022-11-07T15:41:43.184137Z",
     "shell.execute_reply": "2022-11-07T15:41:43.183241Z"
    },
    "papermill": {
     "duration": 0.026805,
     "end_time": "2022-11-07T15:41:43.186210",
     "exception": false,
     "start_time": "2022-11-07T15:41:43.159405",
     "status": "completed"
    },
    "tags": []
   },
   "outputs": [],
   "source": [
    "all_data['Exterior1st'] = all_data['Exterior1st'].fillna(all_data['Exterior1st'].mode()[0])\n",
    "all_data['Exterior2nd'] = all_data['Exterior2nd'].fillna(all_data['Exterior2nd'].mode()[0])"
   ]
  },
  {
   "cell_type": "code",
   "execution_count": 29,
   "id": "26f96263",
   "metadata": {
    "execution": {
     "iopub.execute_input": "2022-11-07T15:41:43.216444Z",
     "iopub.status.busy": "2022-11-07T15:41:43.216099Z",
     "iopub.status.idle": "2022-11-07T15:41:43.223845Z",
     "shell.execute_reply": "2022-11-07T15:41:43.222969Z"
    },
    "papermill": {
     "duration": 0.025368,
     "end_time": "2022-11-07T15:41:43.225920",
     "exception": false,
     "start_time": "2022-11-07T15:41:43.200552",
     "status": "completed"
    },
    "tags": []
   },
   "outputs": [],
   "source": [
    "all_data['SaleType'] = all_data['SaleType'].fillna(all_data['SaleType'].mode()[0])\n"
   ]
  },
  {
   "cell_type": "code",
   "execution_count": 30,
   "id": "3296c20f",
   "metadata": {
    "execution": {
     "iopub.execute_input": "2022-11-07T15:41:43.256334Z",
     "iopub.status.busy": "2022-11-07T15:41:43.255987Z",
     "iopub.status.idle": "2022-11-07T15:41:43.261665Z",
     "shell.execute_reply": "2022-11-07T15:41:43.260591Z"
    },
    "papermill": {
     "duration": 0.023822,
     "end_time": "2022-11-07T15:41:43.264183",
     "exception": false,
     "start_time": "2022-11-07T15:41:43.240361",
     "status": "completed"
    },
    "tags": []
   },
   "outputs": [],
   "source": [
    "all_data['MSSubClass'] = all_data['MSSubClass'].fillna(\"None\")\n"
   ]
  },
  {
   "cell_type": "code",
   "execution_count": 31,
   "id": "6e2a2411",
   "metadata": {
    "execution": {
     "iopub.execute_input": "2022-11-07T15:41:43.294344Z",
     "iopub.status.busy": "2022-11-07T15:41:43.293972Z",
     "iopub.status.idle": "2022-11-07T15:41:43.311998Z",
     "shell.execute_reply": "2022-11-07T15:41:43.310833Z"
    },
    "papermill": {
     "duration": 0.036104,
     "end_time": "2022-11-07T15:41:43.314558",
     "exception": false,
     "start_time": "2022-11-07T15:41:43.278454",
     "status": "completed"
    },
    "tags": []
   },
   "outputs": [
    {
     "data": {
      "text/html": [
       "<div>\n",
       "<style scoped>\n",
       "    .dataframe tbody tr th:only-of-type {\n",
       "        vertical-align: middle;\n",
       "    }\n",
       "\n",
       "    .dataframe tbody tr th {\n",
       "        vertical-align: top;\n",
       "    }\n",
       "\n",
       "    .dataframe thead th {\n",
       "        text-align: right;\n",
       "    }\n",
       "</style>\n",
       "<table border=\"1\" class=\"dataframe\">\n",
       "  <thead>\n",
       "    <tr style=\"text-align: right;\">\n",
       "      <th></th>\n",
       "      <th>Missing Ratio</th>\n",
       "    </tr>\n",
       "  </thead>\n",
       "  <tbody>\n",
       "  </tbody>\n",
       "</table>\n",
       "</div>"
      ],
      "text/plain": [
       "Empty DataFrame\n",
       "Columns: [Missing Ratio]\n",
       "Index: []"
      ]
     },
     "execution_count": 31,
     "metadata": {},
     "output_type": "execute_result"
    }
   ],
   "source": [
    "all_data_na = (all_data.isnull().sum() / len(all_data)) * 100\n",
    "all_data_na = all_data_na.drop(all_data_na[all_data_na == 0].index).sort_values(ascending=False)\n",
    "missing_data = pd.DataFrame({'Missing Ratio' :all_data_na})\n",
    "missing_data.head()"
   ]
  },
  {
   "cell_type": "code",
   "execution_count": 32,
   "id": "1e0b5273",
   "metadata": {
    "execution": {
     "iopub.execute_input": "2022-11-07T15:41:43.345796Z",
     "iopub.status.busy": "2022-11-07T15:41:43.345425Z",
     "iopub.status.idle": "2022-11-07T15:41:43.393729Z",
     "shell.execute_reply": "2022-11-07T15:41:43.392181Z"
    },
    "papermill": {
     "duration": 0.067005,
     "end_time": "2022-11-07T15:41:43.396757",
     "exception": false,
     "start_time": "2022-11-07T15:41:43.329752",
     "status": "completed"
    },
    "tags": []
   },
   "outputs": [
    {
     "name": "stdout",
     "output_type": "stream",
     "text": [
      "(2915, 300)\n"
     ]
    }
   ],
   "source": [
    "all_data = pd.get_dummies(all_data)\n",
    "print(all_data.shape)"
   ]
  },
  {
   "cell_type": "code",
   "execution_count": 33,
   "id": "4af2897a",
   "metadata": {
    "execution": {
     "iopub.execute_input": "2022-11-07T15:41:43.432626Z",
     "iopub.status.busy": "2022-11-07T15:41:43.431780Z",
     "iopub.status.idle": "2022-11-07T15:41:43.437956Z",
     "shell.execute_reply": "2022-11-07T15:41:43.436853Z"
    },
    "papermill": {
     "duration": 0.028492,
     "end_time": "2022-11-07T15:41:43.440805",
     "exception": false,
     "start_time": "2022-11-07T15:41:43.412313",
     "status": "completed"
    },
    "tags": []
   },
   "outputs": [],
   "source": [
    "train = all_data[:ntrain]\n",
    "test = all_data[ntrain:]"
   ]
  },
  {
   "cell_type": "markdown",
   "id": "e3a0f4fd",
   "metadata": {
    "papermill": {
     "duration": 0.014133,
     "end_time": "2022-11-07T15:41:43.469305",
     "exception": false,
     "start_time": "2022-11-07T15:41:43.455172",
     "status": "completed"
    },
    "tags": []
   },
   "source": [
    "### Explore machine learning models"
   ]
  },
  {
   "cell_type": "code",
   "execution_count": 34,
   "id": "6c484c95",
   "metadata": {
    "execution": {
     "iopub.execute_input": "2022-11-07T15:41:43.499324Z",
     "iopub.status.busy": "2022-11-07T15:41:43.498966Z",
     "iopub.status.idle": "2022-11-07T15:41:45.457385Z",
     "shell.execute_reply": "2022-11-07T15:41:45.456285Z"
    },
    "papermill": {
     "duration": 1.976556,
     "end_time": "2022-11-07T15:41:45.460146",
     "exception": false,
     "start_time": "2022-11-07T15:41:43.483590",
     "status": "completed"
    },
    "tags": []
   },
   "outputs": [
    {
     "data": {
      "text/html": [
       "<style type='text/css'>\n",
       ".datatable table.frame { margin-bottom: 0; }\n",
       ".datatable table.frame thead { border-bottom: none; }\n",
       ".datatable table.frame tr.coltypes td {  color: #FFFFFF;  line-height: 6px;  padding: 0 0.5em;}\n",
       ".datatable .bool    { background: #DDDD99; }\n",
       ".datatable .object  { background: #565656; }\n",
       ".datatable .int     { background: #5D9E5D; }\n",
       ".datatable .float   { background: #4040CC; }\n",
       ".datatable .str     { background: #CC4040; }\n",
       ".datatable .time    { background: #40CC40; }\n",
       ".datatable .row_index {  background: var(--jp-border-color3);  border-right: 1px solid var(--jp-border-color0);  color: var(--jp-ui-font-color3);  font-size: 9px;}\n",
       ".datatable .frame tbody td { text-align: left; }\n",
       ".datatable .frame tr.coltypes .row_index {  background: var(--jp-border-color0);}\n",
       ".datatable th:nth-child(2) { padding-left: 12px; }\n",
       ".datatable .hellipsis {  color: var(--jp-cell-editor-border-color);}\n",
       ".datatable .vellipsis {  background: var(--jp-layout-color0);  color: var(--jp-cell-editor-border-color);}\n",
       ".datatable .na {  color: var(--jp-cell-editor-border-color);  font-size: 80%;}\n",
       ".datatable .sp {  opacity: 0.25;}\n",
       ".datatable .footer { font-size: 9px; }\n",
       ".datatable .frame_dimensions {  background: var(--jp-border-color3);  border-top: 1px solid var(--jp-border-color0);  color: var(--jp-ui-font-color3);  display: inline-block;  opacity: 0.6;  padding: 1px 10px 1px 5px;}\n",
       "</style>\n"
      ],
      "text/plain": [
       "<IPython.core.display.HTML object>"
      ]
     },
     "metadata": {},
     "output_type": "display_data"
    }
   ],
   "source": [
    "from sklearn.linear_model import ElasticNet, Lasso,  BayesianRidge, LassoLarsIC\n",
    "from sklearn.ensemble import RandomForestRegressor,  GradientBoostingRegressor\n",
    "from sklearn.kernel_ridge import KernelRidge\n",
    "from sklearn.pipeline import make_pipeline\n",
    "from sklearn.preprocessing import RobustScaler\n",
    "from sklearn.base import BaseEstimator, TransformerMixin, RegressorMixin, clone\n",
    "from sklearn.model_selection import KFold, cross_val_score, train_test_split\n",
    "from sklearn.metrics import mean_squared_error\n",
    "import xgboost as xgb\n",
    "import lightgbm as lgb"
   ]
  },
  {
   "cell_type": "code",
   "execution_count": 35,
   "id": "f256ea2a",
   "metadata": {
    "execution": {
     "iopub.execute_input": "2022-11-07T15:41:45.493007Z",
     "iopub.status.busy": "2022-11-07T15:41:45.492617Z",
     "iopub.status.idle": "2022-11-07T15:41:45.497097Z",
     "shell.execute_reply": "2022-11-07T15:41:45.496113Z"
    },
    "papermill": {
     "duration": 0.023316,
     "end_time": "2022-11-07T15:41:45.499086",
     "exception": false,
     "start_time": "2022-11-07T15:41:45.475770",
     "status": "completed"
    },
    "tags": []
   },
   "outputs": [],
   "source": [
    "X = train\n",
    "y = y_train"
   ]
  },
  {
   "cell_type": "code",
   "execution_count": 36,
   "id": "5365dbc6",
   "metadata": {
    "execution": {
     "iopub.execute_input": "2022-11-07T15:41:45.531429Z",
     "iopub.status.busy": "2022-11-07T15:41:45.530411Z",
     "iopub.status.idle": "2022-11-07T15:41:45.541937Z",
     "shell.execute_reply": "2022-11-07T15:41:45.540927Z"
    },
    "papermill": {
     "duration": 0.030237,
     "end_time": "2022-11-07T15:41:45.544276",
     "exception": false,
     "start_time": "2022-11-07T15:41:45.514039",
     "status": "completed"
    },
    "tags": []
   },
   "outputs": [],
   "source": [
    "from sklearn.model_selection import train_test_split\n",
    "X_train, X_test, y_train, y_test = train_test_split(X, y,random_state=42)"
   ]
  },
  {
   "cell_type": "code",
   "execution_count": 37,
   "id": "813ba1cc",
   "metadata": {
    "execution": {
     "iopub.execute_input": "2022-11-07T15:41:45.576393Z",
     "iopub.status.busy": "2022-11-07T15:41:45.575350Z",
     "iopub.status.idle": "2022-11-07T15:41:48.538605Z",
     "shell.execute_reply": "2022-11-07T15:41:48.537511Z"
    },
    "papermill": {
     "duration": 2.981411,
     "end_time": "2022-11-07T15:41:48.540855",
     "exception": false,
     "start_time": "2022-11-07T15:41:45.559444",
     "status": "completed"
    },
    "tags": []
   },
   "outputs": [
    {
     "data": {
      "text/plain": [
       "0.05319732834216715"
      ]
     },
     "execution_count": 37,
     "metadata": {},
     "output_type": "execute_result"
    }
   ],
   "source": [
    "\n",
    "from sklearn.ensemble import RandomForestRegressor\n",
    "rf_reg = RandomForestRegressor(random_state=42)\n",
    "rf_reg.fit(X, y)\n",
    "mean_squared_error(y_test, rf_reg.predict(X_test), squared=False)"
   ]
  },
  {
   "cell_type": "code",
   "execution_count": 38,
   "id": "7d8b660e",
   "metadata": {
    "execution": {
     "iopub.execute_input": "2022-11-07T15:41:48.573957Z",
     "iopub.status.busy": "2022-11-07T15:41:48.573539Z",
     "iopub.status.idle": "2022-11-07T15:41:52.354228Z",
     "shell.execute_reply": "2022-11-07T15:41:52.353196Z"
    },
    "papermill": {
     "duration": 3.801112,
     "end_time": "2022-11-07T15:41:52.357318",
     "exception": false,
     "start_time": "2022-11-07T15:41:48.556206",
     "status": "completed"
    },
    "tags": []
   },
   "outputs": [
    {
     "data": {
      "text/plain": [
       "0.06256748098520287"
      ]
     },
     "execution_count": 38,
     "metadata": {},
     "output_type": "execute_result"
    }
   ],
   "source": [
    "gbr = GradientBoostingRegressor(n_estimators=300, learning_rate=0.05,\n",
    "                                   max_depth=4, \n",
    "                                   min_samples_leaf=15, min_samples_split=10, \n",
    "                                   random_state =5\n",
    ").fit(X, y)\n",
    "mean_squared_error(gbr.predict(X_train), y_train, squared=False)"
   ]
  },
  {
   "cell_type": "code",
   "execution_count": 39,
   "id": "1eaf479f",
   "metadata": {
    "execution": {
     "iopub.execute_input": "2022-11-07T15:41:52.404790Z",
     "iopub.status.busy": "2022-11-07T15:41:52.404238Z",
     "iopub.status.idle": "2022-11-07T15:41:52.516520Z",
     "shell.execute_reply": "2022-11-07T15:41:52.515243Z"
    },
    "papermill": {
     "duration": 0.139723,
     "end_time": "2022-11-07T15:41:52.520378",
     "exception": false,
     "start_time": "2022-11-07T15:41:52.380655",
     "status": "completed"
    },
    "tags": []
   },
   "outputs": [
    {
     "data": {
      "text/plain": [
       "0.09899757678202722"
      ]
     },
     "execution_count": 39,
     "metadata": {},
     "output_type": "execute_result"
    }
   ],
   "source": [
    "lasso = Lasso(alpha =0.0005, random_state=1).fit(X,y)\n",
    "mean_squared_error(lasso.predict(X_train), y_train, squared=False)"
   ]
  },
  {
   "cell_type": "code",
   "execution_count": 40,
   "id": "60f9cc3b",
   "metadata": {
    "execution": {
     "iopub.execute_input": "2022-11-07T15:41:52.643035Z",
     "iopub.status.busy": "2022-11-07T15:41:52.642632Z",
     "iopub.status.idle": "2022-11-07T15:42:08.413333Z",
     "shell.execute_reply": "2022-11-07T15:42:08.412554Z"
    },
    "papermill": {
     "duration": 15.823545,
     "end_time": "2022-11-07T15:42:08.415557",
     "exception": false,
     "start_time": "2022-11-07T15:41:52.592012",
     "status": "completed"
    },
    "tags": []
   },
   "outputs": [
    {
     "data": {
      "text/plain": [
       "0.07814238074037998"
      ]
     },
     "execution_count": 40,
     "metadata": {},
     "output_type": "execute_result"
    }
   ],
   "source": [
    "model_xgb = xgb.XGBRegressor(colsample_bytree=0.4603, gamma=0.0468, \n",
    "                             learning_rate=0.05, max_depth=3, \n",
    "                             min_child_weight=1.7817, n_estimators=2200,\n",
    "                             reg_alpha=0.4640, reg_lambda=0.8571,\n",
    "                             subsample=0.5213,\n",
    "                             random_state =7, nthread = -1).fit(X,y)\n",
    "mean_squared_error(model_xgb.predict(X_train), y_train, squared=False)"
   ]
  },
  {
   "cell_type": "code",
   "execution_count": 41,
   "id": "b313a667",
   "metadata": {
    "execution": {
     "iopub.execute_input": "2022-11-07T15:42:08.449052Z",
     "iopub.status.busy": "2022-11-07T15:42:08.448686Z",
     "iopub.status.idle": "2022-11-07T15:42:08.971732Z",
     "shell.execute_reply": "2022-11-07T15:42:08.970642Z"
    },
    "papermill": {
     "duration": 0.542041,
     "end_time": "2022-11-07T15:42:08.974311",
     "exception": false,
     "start_time": "2022-11-07T15:42:08.432270",
     "status": "completed"
    },
    "tags": []
   },
   "outputs": [
    {
     "name": "stdout",
     "output_type": "stream",
     "text": [
      "[LightGBM] [Warning] bagging_fraction is set=0.8, subsample=1.0 will be ignored. Current value: bagging_fraction=0.8\n",
      "[LightGBM] [Warning] min_sum_hessian_in_leaf is set=11, min_child_weight=0.001 will be ignored. Current value: min_sum_hessian_in_leaf=11\n",
      "[LightGBM] [Warning] min_data_in_leaf is set=6, min_child_samples=20 will be ignored. Current value: min_data_in_leaf=6\n",
      "[LightGBM] [Warning] feature_fraction is set=0.2319, colsample_bytree=1.0 will be ignored. Current value: feature_fraction=0.2319\n",
      "[LightGBM] [Warning] bagging_freq is set=5, subsample_freq=0 will be ignored. Current value: bagging_freq=5\n"
     ]
    },
    {
     "data": {
      "text/plain": [
       "0.07069406239523403"
      ]
     },
     "execution_count": 41,
     "metadata": {},
     "output_type": "execute_result"
    }
   ],
   "source": [
    "model_lgb = lgb.LGBMRegressor(objective='regression',num_leaves=5,\n",
    "                              learning_rate=0.05, n_estimators=720,\n",
    "                              max_bin = 55, bagging_fraction = 0.8,\n",
    "                              bagging_freq = 5, feature_fraction = 0.2319,\n",
    "                              feature_fraction_seed=9, bagging_seed=9,\n",
    "                              min_data_in_leaf =6, min_sum_hessian_in_leaf = 11).fit(X,y)\n",
    "mean_squared_error(model_lgb.predict(X_train), y_train, squared=False)"
   ]
  },
  {
   "cell_type": "code",
   "execution_count": 42,
   "id": "b76e433f",
   "metadata": {
    "execution": {
     "iopub.execute_input": "2022-11-07T15:42:09.008089Z",
     "iopub.status.busy": "2022-11-07T15:42:09.007716Z",
     "iopub.status.idle": "2022-11-07T15:43:34.086366Z",
     "shell.execute_reply": "2022-11-07T15:43:34.085351Z"
    },
    "papermill": {
     "duration": 85.097804,
     "end_time": "2022-11-07T15:43:34.088690",
     "exception": false,
     "start_time": "2022-11-07T15:42:08.990886",
     "status": "completed"
    },
    "tags": []
   },
   "outputs": [
    {
     "name": "stdout",
     "output_type": "stream",
     "text": [
      "[LightGBM] [Warning] bagging_fraction is set=0.8, subsample=1.0 will be ignored. Current value: bagging_fraction=0.8\n",
      "[LightGBM] [Warning] min_sum_hessian_in_leaf is set=11, min_child_weight=0.001 will be ignored. Current value: min_sum_hessian_in_leaf=11\n",
      "[LightGBM] [Warning] min_data_in_leaf is set=6, min_child_samples=20 will be ignored. Current value: min_data_in_leaf=6\n",
      "[LightGBM] [Warning] feature_fraction is set=0.2319, colsample_bytree=1.0 will be ignored. Current value: feature_fraction=0.2319\n",
      "[LightGBM] [Warning] bagging_freq is set=5, subsample_freq=0 will be ignored. Current value: bagging_freq=5\n",
      "[LightGBM] [Warning] bagging_fraction is set=0.8, subsample=1.0 will be ignored. Current value: bagging_fraction=0.8\n",
      "[LightGBM] [Warning] min_sum_hessian_in_leaf is set=11, min_child_weight=0.001 will be ignored. Current value: min_sum_hessian_in_leaf=11\n",
      "[LightGBM] [Warning] min_data_in_leaf is set=6, min_child_samples=20 will be ignored. Current value: min_data_in_leaf=6\n",
      "[LightGBM] [Warning] feature_fraction is set=0.2319, colsample_bytree=1.0 will be ignored. Current value: feature_fraction=0.2319\n",
      "[LightGBM] [Warning] bagging_freq is set=5, subsample_freq=0 will be ignored. Current value: bagging_freq=5\n",
      "[LightGBM] [Warning] bagging_fraction is set=0.8, subsample=1.0 will be ignored. Current value: bagging_fraction=0.8\n",
      "[LightGBM] [Warning] min_sum_hessian_in_leaf is set=11, min_child_weight=0.001 will be ignored. Current value: min_sum_hessian_in_leaf=11\n",
      "[LightGBM] [Warning] min_data_in_leaf is set=6, min_child_samples=20 will be ignored. Current value: min_data_in_leaf=6\n",
      "[LightGBM] [Warning] feature_fraction is set=0.2319, colsample_bytree=1.0 will be ignored. Current value: feature_fraction=0.2319\n",
      "[LightGBM] [Warning] bagging_freq is set=5, subsample_freq=0 will be ignored. Current value: bagging_freq=5\n",
      "[LightGBM] [Warning] bagging_fraction is set=0.8, subsample=1.0 will be ignored. Current value: bagging_fraction=0.8\n",
      "[LightGBM] [Warning] min_sum_hessian_in_leaf is set=11, min_child_weight=0.001 will be ignored. Current value: min_sum_hessian_in_leaf=11\n",
      "[LightGBM] [Warning] min_data_in_leaf is set=6, min_child_samples=20 will be ignored. Current value: min_data_in_leaf=6\n",
      "[LightGBM] [Warning] feature_fraction is set=0.2319, colsample_bytree=1.0 will be ignored. Current value: feature_fraction=0.2319\n",
      "[LightGBM] [Warning] bagging_freq is set=5, subsample_freq=0 will be ignored. Current value: bagging_freq=5\n",
      "[LightGBM] [Warning] bagging_fraction is set=0.8, subsample=1.0 will be ignored. Current value: bagging_fraction=0.8\n",
      "[LightGBM] [Warning] min_sum_hessian_in_leaf is set=11, min_child_weight=0.001 will be ignored. Current value: min_sum_hessian_in_leaf=11\n",
      "[LightGBM] [Warning] min_data_in_leaf is set=6, min_child_samples=20 will be ignored. Current value: min_data_in_leaf=6\n",
      "[LightGBM] [Warning] feature_fraction is set=0.2319, colsample_bytree=1.0 will be ignored. Current value: feature_fraction=0.2319\n",
      "[LightGBM] [Warning] bagging_freq is set=5, subsample_freq=0 will be ignored. Current value: bagging_freq=5\n"
     ]
    },
    {
     "data": {
      "text/plain": [
       "StackingRegressor(estimators=[('gbr',\n",
       "                               GradientBoostingRegressor(learning_rate=0.05,\n",
       "                                                         max_depth=4,\n",
       "                                                         min_samples_leaf=15,\n",
       "                                                         min_samples_split=10,\n",
       "                                                         n_estimators=300,\n",
       "                                                         random_state=5)),\n",
       "                              ('xgb',\n",
       "                               XGBRegressor(base_score=0.5, booster='gbtree',\n",
       "                                            callbacks=None, colsample_bylevel=1,\n",
       "                                            colsample_bynode=1,\n",
       "                                            colsample_bytree=0.4603,\n",
       "                                            early_stopping_rounds=None,\n",
       "                                            enable_categorical=False...\n",
       "                                            reg_alpha=0.464, ...)),\n",
       "                              ('lgb',\n",
       "                               LGBMRegressor(bagging_fraction=0.8,\n",
       "                                             bagging_freq=5, bagging_seed=9,\n",
       "                                             feature_fraction=0.2319,\n",
       "                                             feature_fraction_seed=9,\n",
       "                                             learning_rate=0.05, max_bin=55,\n",
       "                                             min_data_in_leaf=6,\n",
       "                                             min_sum_hessian_in_leaf=11,\n",
       "                                             n_estimators=720, num_leaves=5,\n",
       "                                             objective='regression')),\n",
       "                              ('rf', RandomForestRegressor(random_state=42))],\n",
       "                  final_estimator=LinearRegression())"
      ]
     },
     "execution_count": 42,
     "metadata": {},
     "output_type": "execute_result"
    }
   ],
   "source": [
    "# Define estimators\n",
    "from sklearn.ensemble import StackingRegressor\n",
    "from sklearn.linear_model import LinearRegression\n",
    "\n",
    "estimator_list = [\n",
    "    ('gbr',gbr),\n",
    "    ('xgb',model_xgb),\n",
    "    ('lgb', model_lgb),\n",
    "    ('rf', rf_reg)\n",
    "    ]\n",
    "\n",
    "# Build stack model\n",
    "stack_model = StackingRegressor(\n",
    "    estimators=estimator_list, final_estimator=LinearRegression()\n",
    ")\n",
    "\n",
    "# Train stacked model\n",
    "stack_model.fit(X_train, y_train)\n"
   ]
  },
  {
   "cell_type": "code",
   "execution_count": 43,
   "id": "67f0fbdb",
   "metadata": {
    "execution": {
     "iopub.execute_input": "2022-11-07T15:43:34.124441Z",
     "iopub.status.busy": "2022-11-07T15:43:34.122766Z",
     "iopub.status.idle": "2022-11-07T15:43:34.235645Z",
     "shell.execute_reply": "2022-11-07T15:43:34.234629Z"
    },
    "papermill": {
     "duration": 0.132213,
     "end_time": "2022-11-07T15:43:34.237955",
     "exception": false,
     "start_time": "2022-11-07T15:43:34.105742",
     "status": "completed"
    },
    "tags": []
   },
   "outputs": [
    {
     "data": {
      "text/plain": [
       "0.06304906663791497"
      ]
     },
     "execution_count": 43,
     "metadata": {},
     "output_type": "execute_result"
    }
   ],
   "source": [
    "mean_squared_error(stack_model.predict(X_train), y_train, squared=False)"
   ]
  },
  {
   "cell_type": "code",
   "execution_count": 44,
   "id": "c6c3d7e8",
   "metadata": {
    "execution": {
     "iopub.execute_input": "2022-11-07T15:43:34.271506Z",
     "iopub.status.busy": "2022-11-07T15:43:34.271183Z",
     "iopub.status.idle": "2022-11-07T15:43:34.318328Z",
     "shell.execute_reply": "2022-11-07T15:43:34.317307Z"
    },
    "papermill": {
     "duration": 0.066242,
     "end_time": "2022-11-07T15:43:34.320578",
     "exception": false,
     "start_time": "2022-11-07T15:43:34.254336",
     "status": "completed"
    },
    "tags": []
   },
   "outputs": [],
   "source": [
    "ensemble = gbr.predict(test)*0.80 + model_xgb.predict(test)*0.2"
   ]
  },
  {
   "cell_type": "code",
   "execution_count": 45,
   "id": "77a4197a",
   "metadata": {
    "execution": {
     "iopub.execute_input": "2022-11-07T15:43:34.357661Z",
     "iopub.status.busy": "2022-11-07T15:43:34.357306Z",
     "iopub.status.idle": "2022-11-07T15:43:34.482663Z",
     "shell.execute_reply": "2022-11-07T15:43:34.481619Z"
    },
    "papermill": {
     "duration": 0.144933,
     "end_time": "2022-11-07T15:43:34.485117",
     "exception": false,
     "start_time": "2022-11-07T15:43:34.340184",
     "status": "completed"
    },
    "tags": []
   },
   "outputs": [],
   "source": [
    "y_pred = stack_model.predict(test)"
   ]
  },
  {
   "cell_type": "code",
   "execution_count": 46,
   "id": "dea31d95",
   "metadata": {
    "execution": {
     "iopub.execute_input": "2022-11-07T15:43:34.521484Z",
     "iopub.status.busy": "2022-11-07T15:43:34.520914Z",
     "iopub.status.idle": "2022-11-07T15:43:34.540606Z",
     "shell.execute_reply": "2022-11-07T15:43:34.539712Z"
    },
    "papermill": {
     "duration": 0.039942,
     "end_time": "2022-11-07T15:43:34.542783",
     "exception": false,
     "start_time": "2022-11-07T15:43:34.502841",
     "status": "completed"
    },
    "tags": []
   },
   "outputs": [],
   "source": [
    "y_pred1 = gbr.predict(test)"
   ]
  },
  {
   "cell_type": "code",
   "execution_count": 47,
   "id": "370a8d80",
   "metadata": {
    "execution": {
     "iopub.execute_input": "2022-11-07T15:43:34.575308Z",
     "iopub.status.busy": "2022-11-07T15:43:34.574992Z",
     "iopub.status.idle": "2022-11-07T15:43:34.580470Z",
     "shell.execute_reply": "2022-11-07T15:43:34.579541Z"
    },
    "papermill": {
     "duration": 0.023837,
     "end_time": "2022-11-07T15:43:34.582551",
     "exception": false,
     "start_time": "2022-11-07T15:43:34.558714",
     "status": "completed"
    },
    "tags": []
   },
   "outputs": [],
   "source": [
    "submission = pd.DataFrame({'Id': test.Id, 'SalePrice': ensemble})"
   ]
  },
  {
   "cell_type": "code",
   "execution_count": 48,
   "id": "8fec8633",
   "metadata": {
    "execution": {
     "iopub.execute_input": "2022-11-07T15:43:34.614949Z",
     "iopub.status.busy": "2022-11-07T15:43:34.614644Z",
     "iopub.status.idle": "2022-11-07T15:43:34.624477Z",
     "shell.execute_reply": "2022-11-07T15:43:34.623547Z"
    },
    "papermill": {
     "duration": 0.028413,
     "end_time": "2022-11-07T15:43:34.626682",
     "exception": false,
     "start_time": "2022-11-07T15:43:34.598269",
     "status": "completed"
    },
    "tags": []
   },
   "outputs": [
    {
     "data": {
      "text/html": [
       "<div>\n",
       "<style scoped>\n",
       "    .dataframe tbody tr th:only-of-type {\n",
       "        vertical-align: middle;\n",
       "    }\n",
       "\n",
       "    .dataframe tbody tr th {\n",
       "        vertical-align: top;\n",
       "    }\n",
       "\n",
       "    .dataframe thead th {\n",
       "        text-align: right;\n",
       "    }\n",
       "</style>\n",
       "<table border=\"1\" class=\"dataframe\">\n",
       "  <thead>\n",
       "    <tr style=\"text-align: right;\">\n",
       "      <th></th>\n",
       "      <th>Id</th>\n",
       "      <th>SalePrice</th>\n",
       "    </tr>\n",
       "  </thead>\n",
       "  <tbody>\n",
       "    <tr>\n",
       "      <th>1456</th>\n",
       "      <td>1461</td>\n",
       "      <td>11.695</td>\n",
       "    </tr>\n",
       "    <tr>\n",
       "      <th>1457</th>\n",
       "      <td>1462</td>\n",
       "      <td>11.940</td>\n",
       "    </tr>\n",
       "    <tr>\n",
       "      <th>1458</th>\n",
       "      <td>1463</td>\n",
       "      <td>12.102</td>\n",
       "    </tr>\n",
       "    <tr>\n",
       "      <th>1459</th>\n",
       "      <td>1464</td>\n",
       "      <td>12.162</td>\n",
       "    </tr>\n",
       "    <tr>\n",
       "      <th>1460</th>\n",
       "      <td>1465</td>\n",
       "      <td>12.129</td>\n",
       "    </tr>\n",
       "  </tbody>\n",
       "</table>\n",
       "</div>"
      ],
      "text/plain": [
       "        Id  SalePrice\n",
       "1456  1461     11.695\n",
       "1457  1462     11.940\n",
       "1458  1463     12.102\n",
       "1459  1464     12.162\n",
       "1460  1465     12.129"
      ]
     },
     "execution_count": 48,
     "metadata": {},
     "output_type": "execute_result"
    }
   ],
   "source": [
    "submission.head()"
   ]
  },
  {
   "cell_type": "code",
   "execution_count": 49,
   "id": "fb0573c2",
   "metadata": {
    "execution": {
     "iopub.execute_input": "2022-11-07T15:43:34.659406Z",
     "iopub.status.busy": "2022-11-07T15:43:34.659107Z",
     "iopub.status.idle": "2022-11-07T15:43:34.669325Z",
     "shell.execute_reply": "2022-11-07T15:43:34.668406Z"
    },
    "papermill": {
     "duration": 0.029364,
     "end_time": "2022-11-07T15:43:34.671648",
     "exception": false,
     "start_time": "2022-11-07T15:43:34.642284",
     "status": "completed"
    },
    "tags": []
   },
   "outputs": [],
   "source": [
    "submission.to_csv('submission.csv', index=False)"
   ]
  }
 ],
 "metadata": {
  "kernelspec": {
   "display_name": "Python 3",
   "language": "python",
   "name": "python3"
  },
  "language_info": {
   "codemirror_mode": {
    "name": "ipython",
    "version": 3
   },
   "file_extension": ".py",
   "mimetype": "text/x-python",
   "name": "python",
   "nbconvert_exporter": "python",
   "pygments_lexer": "ipython3",
   "version": "3.7.12"
  },
  "papermill": {
   "default_parameters": {},
   "duration": 125.428143,
   "end_time": "2022-11-07T15:43:35.909633",
   "environment_variables": {},
   "exception": null,
   "input_path": "__notebook__.ipynb",
   "output_path": "__notebook__.ipynb",
   "parameters": {},
   "start_time": "2022-11-07T15:41:30.481490",
   "version": "2.3.4"
  }
 },
 "nbformat": 4,
 "nbformat_minor": 5
}
